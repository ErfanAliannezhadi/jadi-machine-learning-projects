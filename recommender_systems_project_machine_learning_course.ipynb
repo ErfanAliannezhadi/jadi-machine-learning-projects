{
 "cells": [
  {
   "cell_type": "markdown",
   "source": [
    "# <h1 align=\"center\">Recommender Systems Project</h1>\n",
    "# <h1 align=\"center\">Erfan Aliannezhadi</h1>\n",
    "\n",
    "### Introduction\n",
    "In this project, We are building a recommender system for site IMDB\n",
    "\n",
    "\n",
    "### Introduction of data set features\n",
    "#### movies.csv\n",
    "* **movieid**\n",
    "* **title**\n",
    "* **genres**\n",
    "\n",
    "#### rating.csv\n",
    "* **userid**\n",
    "* **movieid**\n",
    "* **rating**\n",
    "* **timestamp**\n"
   ],
   "metadata": {
    "collapsed": false
   }
  },
  {
   "cell_type": "markdown",
   "source": [
    "### Content Based Recommender System\n",
    "\n",
    "\n",
    "<p>First, we do the necessary imports</p>"
   ],
   "metadata": {
    "collapsed": false
   }
  },
  {
   "cell_type": "code",
   "execution_count": 39,
   "outputs": [],
   "source": [
    "import pandas as pd"
   ],
   "metadata": {
    "collapsed": false,
    "ExecuteTime": {
     "end_time": "2024-08-16T15:11:07.652637800Z",
     "start_time": "2024-08-16T15:11:07.640992300Z"
    }
   }
  },
  {
   "cell_type": "markdown",
   "source": [
    "First, we read the datasets"
   ],
   "metadata": {
    "collapsed": false
   }
  },
  {
   "cell_type": "code",
   "execution_count": 4,
   "outputs": [
    {
     "data": {
      "text/plain": "      movieId                                      title  \\\n0           1                           Toy Story (1995)   \n1           2                             Jumanji (1995)   \n2           3                    Grumpier Old Men (1995)   \n3           4                   Waiting to Exhale (1995)   \n4           5         Father of the Bride Part II (1995)   \n...       ...                                        ...   \n9737   193581  Black Butler: Book of the Atlantic (2017)   \n9738   193583               No Game No Life: Zero (2017)   \n9739   193585                               Flint (2017)   \n9740   193587        Bungo Stray Dogs: Dead Apple (2018)   \n9741   193609        Andrew Dice Clay: Dice Rules (1991)   \n\n                                           genres  \n0     Adventure|Animation|Children|Comedy|Fantasy  \n1                      Adventure|Children|Fantasy  \n2                                  Comedy|Romance  \n3                            Comedy|Drama|Romance  \n4                                          Comedy  \n...                                           ...  \n9737              Action|Animation|Comedy|Fantasy  \n9738                     Animation|Comedy|Fantasy  \n9739                                        Drama  \n9740                             Action|Animation  \n9741                                       Comedy  \n\n[9742 rows x 3 columns]",
      "text/html": "<div>\n<style scoped>\n    .dataframe tbody tr th:only-of-type {\n        vertical-align: middle;\n    }\n\n    .dataframe tbody tr th {\n        vertical-align: top;\n    }\n\n    .dataframe thead th {\n        text-align: right;\n    }\n</style>\n<table border=\"1\" class=\"dataframe\">\n  <thead>\n    <tr style=\"text-align: right;\">\n      <th></th>\n      <th>movieId</th>\n      <th>title</th>\n      <th>genres</th>\n    </tr>\n  </thead>\n  <tbody>\n    <tr>\n      <th>0</th>\n      <td>1</td>\n      <td>Toy Story (1995)</td>\n      <td>Adventure|Animation|Children|Comedy|Fantasy</td>\n    </tr>\n    <tr>\n      <th>1</th>\n      <td>2</td>\n      <td>Jumanji (1995)</td>\n      <td>Adventure|Children|Fantasy</td>\n    </tr>\n    <tr>\n      <th>2</th>\n      <td>3</td>\n      <td>Grumpier Old Men (1995)</td>\n      <td>Comedy|Romance</td>\n    </tr>\n    <tr>\n      <th>3</th>\n      <td>4</td>\n      <td>Waiting to Exhale (1995)</td>\n      <td>Comedy|Drama|Romance</td>\n    </tr>\n    <tr>\n      <th>4</th>\n      <td>5</td>\n      <td>Father of the Bride Part II (1995)</td>\n      <td>Comedy</td>\n    </tr>\n    <tr>\n      <th>...</th>\n      <td>...</td>\n      <td>...</td>\n      <td>...</td>\n    </tr>\n    <tr>\n      <th>9737</th>\n      <td>193581</td>\n      <td>Black Butler: Book of the Atlantic (2017)</td>\n      <td>Action|Animation|Comedy|Fantasy</td>\n    </tr>\n    <tr>\n      <th>9738</th>\n      <td>193583</td>\n      <td>No Game No Life: Zero (2017)</td>\n      <td>Animation|Comedy|Fantasy</td>\n    </tr>\n    <tr>\n      <th>9739</th>\n      <td>193585</td>\n      <td>Flint (2017)</td>\n      <td>Drama</td>\n    </tr>\n    <tr>\n      <th>9740</th>\n      <td>193587</td>\n      <td>Bungo Stray Dogs: Dead Apple (2018)</td>\n      <td>Action|Animation</td>\n    </tr>\n    <tr>\n      <th>9741</th>\n      <td>193609</td>\n      <td>Andrew Dice Clay: Dice Rules (1991)</td>\n      <td>Comedy</td>\n    </tr>\n  </tbody>\n</table>\n<p>9742 rows × 3 columns</p>\n</div>"
     },
     "execution_count": 4,
     "metadata": {},
     "output_type": "execute_result"
    }
   ],
   "source": [
    "movies_df = pd.read_csv('movies.csv')\n",
    "movies_df"
   ],
   "metadata": {
    "collapsed": false,
    "ExecuteTime": {
     "end_time": "2024-08-16T12:09:21.181342400Z",
     "start_time": "2024-08-16T12:09:20.710756900Z"
    }
   }
  },
  {
   "cell_type": "markdown",
   "source": [
    "First, we separate the year values and store them in a separate column"
   ],
   "metadata": {
    "collapsed": false
   }
  },
  {
   "cell_type": "code",
   "execution_count": 5,
   "outputs": [
    {
     "data": {
      "text/plain": "      movieId                               title  \\\n0           1                           Toy Story   \n1           2                             Jumanji   \n2           3                    Grumpier Old Men   \n3           4                   Waiting to Exhale   \n4           5         Father of the Bride Part II   \n...       ...                                 ...   \n9737   193581  Black Butler: Book of the Atlantic   \n9738   193583               No Game No Life: Zero   \n9739   193585                               Flint   \n9740   193587        Bungo Stray Dogs: Dead Apple   \n9741   193609        Andrew Dice Clay: Dice Rules   \n\n                                           genres  year  \n0     Adventure|Animation|Children|Comedy|Fantasy  1995  \n1                      Adventure|Children|Fantasy  1995  \n2                                  Comedy|Romance  1995  \n3                            Comedy|Drama|Romance  1995  \n4                                          Comedy  1995  \n...                                           ...   ...  \n9737              Action|Animation|Comedy|Fantasy  2017  \n9738                     Animation|Comedy|Fantasy  2017  \n9739                                        Drama  2017  \n9740                             Action|Animation  2018  \n9741                                       Comedy  1991  \n\n[9742 rows x 4 columns]",
      "text/html": "<div>\n<style scoped>\n    .dataframe tbody tr th:only-of-type {\n        vertical-align: middle;\n    }\n\n    .dataframe tbody tr th {\n        vertical-align: top;\n    }\n\n    .dataframe thead th {\n        text-align: right;\n    }\n</style>\n<table border=\"1\" class=\"dataframe\">\n  <thead>\n    <tr style=\"text-align: right;\">\n      <th></th>\n      <th>movieId</th>\n      <th>title</th>\n      <th>genres</th>\n      <th>year</th>\n    </tr>\n  </thead>\n  <tbody>\n    <tr>\n      <th>0</th>\n      <td>1</td>\n      <td>Toy Story</td>\n      <td>Adventure|Animation|Children|Comedy|Fantasy</td>\n      <td>1995</td>\n    </tr>\n    <tr>\n      <th>1</th>\n      <td>2</td>\n      <td>Jumanji</td>\n      <td>Adventure|Children|Fantasy</td>\n      <td>1995</td>\n    </tr>\n    <tr>\n      <th>2</th>\n      <td>3</td>\n      <td>Grumpier Old Men</td>\n      <td>Comedy|Romance</td>\n      <td>1995</td>\n    </tr>\n    <tr>\n      <th>3</th>\n      <td>4</td>\n      <td>Waiting to Exhale</td>\n      <td>Comedy|Drama|Romance</td>\n      <td>1995</td>\n    </tr>\n    <tr>\n      <th>4</th>\n      <td>5</td>\n      <td>Father of the Bride Part II</td>\n      <td>Comedy</td>\n      <td>1995</td>\n    </tr>\n    <tr>\n      <th>...</th>\n      <td>...</td>\n      <td>...</td>\n      <td>...</td>\n      <td>...</td>\n    </tr>\n    <tr>\n      <th>9737</th>\n      <td>193581</td>\n      <td>Black Butler: Book of the Atlantic</td>\n      <td>Action|Animation|Comedy|Fantasy</td>\n      <td>2017</td>\n    </tr>\n    <tr>\n      <th>9738</th>\n      <td>193583</td>\n      <td>No Game No Life: Zero</td>\n      <td>Animation|Comedy|Fantasy</td>\n      <td>2017</td>\n    </tr>\n    <tr>\n      <th>9739</th>\n      <td>193585</td>\n      <td>Flint</td>\n      <td>Drama</td>\n      <td>2017</td>\n    </tr>\n    <tr>\n      <th>9740</th>\n      <td>193587</td>\n      <td>Bungo Stray Dogs: Dead Apple</td>\n      <td>Action|Animation</td>\n      <td>2018</td>\n    </tr>\n    <tr>\n      <th>9741</th>\n      <td>193609</td>\n      <td>Andrew Dice Clay: Dice Rules</td>\n      <td>Comedy</td>\n      <td>1991</td>\n    </tr>\n  </tbody>\n</table>\n<p>9742 rows × 4 columns</p>\n</div>"
     },
     "execution_count": 5,
     "metadata": {},
     "output_type": "execute_result"
    }
   ],
   "source": [
    "movies_df['year'] = movies_df.title.str.extract('(\\(\\d\\d\\d\\d\\))', expand=False)\n",
    "movies_df['year'] = movies_df.year.str.extract('(\\d\\d\\d\\d)', expand=False)\n",
    "movies_df['title'] = movies_df['title'].str.replace('(\\(\\d\\d\\d\\d\\))', '', regex=True)\n",
    "movies_df['title'] = movies_df['title'].apply(lambda x: x.strip())\n",
    "\n",
    "movies_df"
   ],
   "metadata": {
    "collapsed": false,
    "ExecuteTime": {
     "end_time": "2024-08-16T12:09:38.149994500Z",
     "start_time": "2024-08-16T12:09:37.863994800Z"
    }
   }
  },
  {
   "cell_type": "markdown",
   "source": [
    "Then make the genre values as a list"
   ],
   "metadata": {
    "collapsed": false
   }
  },
  {
   "cell_type": "code",
   "execution_count": 6,
   "outputs": [
    {
     "data": {
      "text/plain": "      movieId                               title  \\\n0           1                           Toy Story   \n1           2                             Jumanji   \n2           3                    Grumpier Old Men   \n3           4                   Waiting to Exhale   \n4           5         Father of the Bride Part II   \n...       ...                                 ...   \n9737   193581  Black Butler: Book of the Atlantic   \n9738   193583               No Game No Life: Zero   \n9739   193585                               Flint   \n9740   193587        Bungo Stray Dogs: Dead Apple   \n9741   193609        Andrew Dice Clay: Dice Rules   \n\n                                                 genres  year  \n0     [Adventure, Animation, Children, Comedy, Fantasy]  1995  \n1                        [Adventure, Children, Fantasy]  1995  \n2                                     [Comedy, Romance]  1995  \n3                              [Comedy, Drama, Romance]  1995  \n4                                              [Comedy]  1995  \n...                                                 ...   ...  \n9737               [Action, Animation, Comedy, Fantasy]  2017  \n9738                       [Animation, Comedy, Fantasy]  2017  \n9739                                            [Drama]  2017  \n9740                                [Action, Animation]  2018  \n9741                                           [Comedy]  1991  \n\n[9742 rows x 4 columns]",
      "text/html": "<div>\n<style scoped>\n    .dataframe tbody tr th:only-of-type {\n        vertical-align: middle;\n    }\n\n    .dataframe tbody tr th {\n        vertical-align: top;\n    }\n\n    .dataframe thead th {\n        text-align: right;\n    }\n</style>\n<table border=\"1\" class=\"dataframe\">\n  <thead>\n    <tr style=\"text-align: right;\">\n      <th></th>\n      <th>movieId</th>\n      <th>title</th>\n      <th>genres</th>\n      <th>year</th>\n    </tr>\n  </thead>\n  <tbody>\n    <tr>\n      <th>0</th>\n      <td>1</td>\n      <td>Toy Story</td>\n      <td>[Adventure, Animation, Children, Comedy, Fantasy]</td>\n      <td>1995</td>\n    </tr>\n    <tr>\n      <th>1</th>\n      <td>2</td>\n      <td>Jumanji</td>\n      <td>[Adventure, Children, Fantasy]</td>\n      <td>1995</td>\n    </tr>\n    <tr>\n      <th>2</th>\n      <td>3</td>\n      <td>Grumpier Old Men</td>\n      <td>[Comedy, Romance]</td>\n      <td>1995</td>\n    </tr>\n    <tr>\n      <th>3</th>\n      <td>4</td>\n      <td>Waiting to Exhale</td>\n      <td>[Comedy, Drama, Romance]</td>\n      <td>1995</td>\n    </tr>\n    <tr>\n      <th>4</th>\n      <td>5</td>\n      <td>Father of the Bride Part II</td>\n      <td>[Comedy]</td>\n      <td>1995</td>\n    </tr>\n    <tr>\n      <th>...</th>\n      <td>...</td>\n      <td>...</td>\n      <td>...</td>\n      <td>...</td>\n    </tr>\n    <tr>\n      <th>9737</th>\n      <td>193581</td>\n      <td>Black Butler: Book of the Atlantic</td>\n      <td>[Action, Animation, Comedy, Fantasy]</td>\n      <td>2017</td>\n    </tr>\n    <tr>\n      <th>9738</th>\n      <td>193583</td>\n      <td>No Game No Life: Zero</td>\n      <td>[Animation, Comedy, Fantasy]</td>\n      <td>2017</td>\n    </tr>\n    <tr>\n      <th>9739</th>\n      <td>193585</td>\n      <td>Flint</td>\n      <td>[Drama]</td>\n      <td>2017</td>\n    </tr>\n    <tr>\n      <th>9740</th>\n      <td>193587</td>\n      <td>Bungo Stray Dogs: Dead Apple</td>\n      <td>[Action, Animation]</td>\n      <td>2018</td>\n    </tr>\n    <tr>\n      <th>9741</th>\n      <td>193609</td>\n      <td>Andrew Dice Clay: Dice Rules</td>\n      <td>[Comedy]</td>\n      <td>1991</td>\n    </tr>\n  </tbody>\n</table>\n<p>9742 rows × 4 columns</p>\n</div>"
     },
     "execution_count": 6,
     "metadata": {},
     "output_type": "execute_result"
    }
   ],
   "source": [
    "movies_df['genres'] = movies_df.genres.str.split('|')\n",
    "movies_df"
   ],
   "metadata": {
    "collapsed": false,
    "ExecuteTime": {
     "end_time": "2024-08-16T12:10:09.322794Z",
     "start_time": "2024-08-16T12:10:09.306666900Z"
    }
   }
  },
  {
   "cell_type": "markdown",
   "source": [
    "In this step, we make each genre into a column"
   ],
   "metadata": {
    "collapsed": false
   }
  },
  {
   "cell_type": "code",
   "execution_count": 23,
   "outputs": [
    {
     "data": {
      "text/plain": "      movieId  Adventure  Animation  Children  Comedy  Fantasy  Romance  \\\n0           1        1.0        1.0       1.0     1.0      1.0      0.0   \n1           2        1.0        0.0       1.0     0.0      1.0      0.0   \n2           3        0.0        0.0       0.0     1.0      0.0      1.0   \n3           4        0.0        0.0       0.0     1.0      0.0      1.0   \n4           5        0.0        0.0       0.0     1.0      0.0      0.0   \n...       ...        ...        ...       ...     ...      ...      ...   \n9737   193581        0.0        1.0       0.0     1.0      1.0      0.0   \n9738   193583        0.0        1.0       0.0     1.0      1.0      0.0   \n9739   193585        0.0        0.0       0.0     0.0      0.0      0.0   \n9740   193587        0.0        1.0       0.0     0.0      0.0      0.0   \n9741   193609        0.0        0.0       0.0     1.0      0.0      0.0   \n\n      Drama  Action  Crime  ...  Horror  Mystery  Sci-Fi  War  Musical  \\\n0       0.0     0.0    0.0  ...     0.0      0.0     0.0  0.0      0.0   \n1       0.0     0.0    0.0  ...     0.0      0.0     0.0  0.0      0.0   \n2       0.0     0.0    0.0  ...     0.0      0.0     0.0  0.0      0.0   \n3       1.0     0.0    0.0  ...     0.0      0.0     0.0  0.0      0.0   \n4       0.0     0.0    0.0  ...     0.0      0.0     0.0  0.0      0.0   \n...     ...     ...    ...  ...     ...      ...     ...  ...      ...   \n9737    0.0     1.0    0.0  ...     0.0      0.0     0.0  0.0      0.0   \n9738    0.0     0.0    0.0  ...     0.0      0.0     0.0  0.0      0.0   \n9739    1.0     0.0    0.0  ...     0.0      0.0     0.0  0.0      0.0   \n9740    0.0     1.0    0.0  ...     0.0      0.0     0.0  0.0      0.0   \n9741    0.0     0.0    0.0  ...     0.0      0.0     0.0  0.0      0.0   \n\n      Documentary  IMAX  Western  Film-Noir  (no genres listed)  \n0             0.0   0.0      0.0        0.0                 0.0  \n1             0.0   0.0      0.0        0.0                 0.0  \n2             0.0   0.0      0.0        0.0                 0.0  \n3             0.0   0.0      0.0        0.0                 0.0  \n4             0.0   0.0      0.0        0.0                 0.0  \n...           ...   ...      ...        ...                 ...  \n9737          0.0   0.0      0.0        0.0                 0.0  \n9738          0.0   0.0      0.0        0.0                 0.0  \n9739          0.0   0.0      0.0        0.0                 0.0  \n9740          0.0   0.0      0.0        0.0                 0.0  \n9741          0.0   0.0      0.0        0.0                 0.0  \n\n[9742 rows x 21 columns]",
      "text/html": "<div>\n<style scoped>\n    .dataframe tbody tr th:only-of-type {\n        vertical-align: middle;\n    }\n\n    .dataframe tbody tr th {\n        vertical-align: top;\n    }\n\n    .dataframe thead th {\n        text-align: right;\n    }\n</style>\n<table border=\"1\" class=\"dataframe\">\n  <thead>\n    <tr style=\"text-align: right;\">\n      <th></th>\n      <th>movieId</th>\n      <th>Adventure</th>\n      <th>Animation</th>\n      <th>Children</th>\n      <th>Comedy</th>\n      <th>Fantasy</th>\n      <th>Romance</th>\n      <th>Drama</th>\n      <th>Action</th>\n      <th>Crime</th>\n      <th>...</th>\n      <th>Horror</th>\n      <th>Mystery</th>\n      <th>Sci-Fi</th>\n      <th>War</th>\n      <th>Musical</th>\n      <th>Documentary</th>\n      <th>IMAX</th>\n      <th>Western</th>\n      <th>Film-Noir</th>\n      <th>(no genres listed)</th>\n    </tr>\n  </thead>\n  <tbody>\n    <tr>\n      <th>0</th>\n      <td>1</td>\n      <td>1.0</td>\n      <td>1.0</td>\n      <td>1.0</td>\n      <td>1.0</td>\n      <td>1.0</td>\n      <td>0.0</td>\n      <td>0.0</td>\n      <td>0.0</td>\n      <td>0.0</td>\n      <td>...</td>\n      <td>0.0</td>\n      <td>0.0</td>\n      <td>0.0</td>\n      <td>0.0</td>\n      <td>0.0</td>\n      <td>0.0</td>\n      <td>0.0</td>\n      <td>0.0</td>\n      <td>0.0</td>\n      <td>0.0</td>\n    </tr>\n    <tr>\n      <th>1</th>\n      <td>2</td>\n      <td>1.0</td>\n      <td>0.0</td>\n      <td>1.0</td>\n      <td>0.0</td>\n      <td>1.0</td>\n      <td>0.0</td>\n      <td>0.0</td>\n      <td>0.0</td>\n      <td>0.0</td>\n      <td>...</td>\n      <td>0.0</td>\n      <td>0.0</td>\n      <td>0.0</td>\n      <td>0.0</td>\n      <td>0.0</td>\n      <td>0.0</td>\n      <td>0.0</td>\n      <td>0.0</td>\n      <td>0.0</td>\n      <td>0.0</td>\n    </tr>\n    <tr>\n      <th>2</th>\n      <td>3</td>\n      <td>0.0</td>\n      <td>0.0</td>\n      <td>0.0</td>\n      <td>1.0</td>\n      <td>0.0</td>\n      <td>1.0</td>\n      <td>0.0</td>\n      <td>0.0</td>\n      <td>0.0</td>\n      <td>...</td>\n      <td>0.0</td>\n      <td>0.0</td>\n      <td>0.0</td>\n      <td>0.0</td>\n      <td>0.0</td>\n      <td>0.0</td>\n      <td>0.0</td>\n      <td>0.0</td>\n      <td>0.0</td>\n      <td>0.0</td>\n    </tr>\n    <tr>\n      <th>3</th>\n      <td>4</td>\n      <td>0.0</td>\n      <td>0.0</td>\n      <td>0.0</td>\n      <td>1.0</td>\n      <td>0.0</td>\n      <td>1.0</td>\n      <td>1.0</td>\n      <td>0.0</td>\n      <td>0.0</td>\n      <td>...</td>\n      <td>0.0</td>\n      <td>0.0</td>\n      <td>0.0</td>\n      <td>0.0</td>\n      <td>0.0</td>\n      <td>0.0</td>\n      <td>0.0</td>\n      <td>0.0</td>\n      <td>0.0</td>\n      <td>0.0</td>\n    </tr>\n    <tr>\n      <th>4</th>\n      <td>5</td>\n      <td>0.0</td>\n      <td>0.0</td>\n      <td>0.0</td>\n      <td>1.0</td>\n      <td>0.0</td>\n      <td>0.0</td>\n      <td>0.0</td>\n      <td>0.0</td>\n      <td>0.0</td>\n      <td>...</td>\n      <td>0.0</td>\n      <td>0.0</td>\n      <td>0.0</td>\n      <td>0.0</td>\n      <td>0.0</td>\n      <td>0.0</td>\n      <td>0.0</td>\n      <td>0.0</td>\n      <td>0.0</td>\n      <td>0.0</td>\n    </tr>\n    <tr>\n      <th>...</th>\n      <td>...</td>\n      <td>...</td>\n      <td>...</td>\n      <td>...</td>\n      <td>...</td>\n      <td>...</td>\n      <td>...</td>\n      <td>...</td>\n      <td>...</td>\n      <td>...</td>\n      <td>...</td>\n      <td>...</td>\n      <td>...</td>\n      <td>...</td>\n      <td>...</td>\n      <td>...</td>\n      <td>...</td>\n      <td>...</td>\n      <td>...</td>\n      <td>...</td>\n      <td>...</td>\n    </tr>\n    <tr>\n      <th>9737</th>\n      <td>193581</td>\n      <td>0.0</td>\n      <td>1.0</td>\n      <td>0.0</td>\n      <td>1.0</td>\n      <td>1.0</td>\n      <td>0.0</td>\n      <td>0.0</td>\n      <td>1.0</td>\n      <td>0.0</td>\n      <td>...</td>\n      <td>0.0</td>\n      <td>0.0</td>\n      <td>0.0</td>\n      <td>0.0</td>\n      <td>0.0</td>\n      <td>0.0</td>\n      <td>0.0</td>\n      <td>0.0</td>\n      <td>0.0</td>\n      <td>0.0</td>\n    </tr>\n    <tr>\n      <th>9738</th>\n      <td>193583</td>\n      <td>0.0</td>\n      <td>1.0</td>\n      <td>0.0</td>\n      <td>1.0</td>\n      <td>1.0</td>\n      <td>0.0</td>\n      <td>0.0</td>\n      <td>0.0</td>\n      <td>0.0</td>\n      <td>...</td>\n      <td>0.0</td>\n      <td>0.0</td>\n      <td>0.0</td>\n      <td>0.0</td>\n      <td>0.0</td>\n      <td>0.0</td>\n      <td>0.0</td>\n      <td>0.0</td>\n      <td>0.0</td>\n      <td>0.0</td>\n    </tr>\n    <tr>\n      <th>9739</th>\n      <td>193585</td>\n      <td>0.0</td>\n      <td>0.0</td>\n      <td>0.0</td>\n      <td>0.0</td>\n      <td>0.0</td>\n      <td>0.0</td>\n      <td>1.0</td>\n      <td>0.0</td>\n      <td>0.0</td>\n      <td>...</td>\n      <td>0.0</td>\n      <td>0.0</td>\n      <td>0.0</td>\n      <td>0.0</td>\n      <td>0.0</td>\n      <td>0.0</td>\n      <td>0.0</td>\n      <td>0.0</td>\n      <td>0.0</td>\n      <td>0.0</td>\n    </tr>\n    <tr>\n      <th>9740</th>\n      <td>193587</td>\n      <td>0.0</td>\n      <td>1.0</td>\n      <td>0.0</td>\n      <td>0.0</td>\n      <td>0.0</td>\n      <td>0.0</td>\n      <td>0.0</td>\n      <td>1.0</td>\n      <td>0.0</td>\n      <td>...</td>\n      <td>0.0</td>\n      <td>0.0</td>\n      <td>0.0</td>\n      <td>0.0</td>\n      <td>0.0</td>\n      <td>0.0</td>\n      <td>0.0</td>\n      <td>0.0</td>\n      <td>0.0</td>\n      <td>0.0</td>\n    </tr>\n    <tr>\n      <th>9741</th>\n      <td>193609</td>\n      <td>0.0</td>\n      <td>0.0</td>\n      <td>0.0</td>\n      <td>1.0</td>\n      <td>0.0</td>\n      <td>0.0</td>\n      <td>0.0</td>\n      <td>0.0</td>\n      <td>0.0</td>\n      <td>...</td>\n      <td>0.0</td>\n      <td>0.0</td>\n      <td>0.0</td>\n      <td>0.0</td>\n      <td>0.0</td>\n      <td>0.0</td>\n      <td>0.0</td>\n      <td>0.0</td>\n      <td>0.0</td>\n      <td>0.0</td>\n    </tr>\n  </tbody>\n</table>\n<p>9742 rows × 21 columns</p>\n</div>"
     },
     "execution_count": 23,
     "metadata": {},
     "output_type": "execute_result"
    }
   ],
   "source": [
    "moviesWithGenres_df = movies_df.copy()\n",
    "\n",
    "for index, row in movies_df.iterrows():\n",
    "    for genre in row['genres']:\n",
    "        moviesWithGenres_df.at[index, genre] = 1\n",
    "moviesWithGenres_df = moviesWithGenres_df.fillna(0)\n",
    "\n",
    "moviesWithGenres_df.drop('genres', axis=1, inplace=True)\n",
    "moviesWithGenres_df.drop('year', axis=1, inplace=True)\n",
    "moviesWithGenres_df.drop('title', axis=1, inplace=True)\n",
    "\n",
    "moviesWithGenres_df"
   ],
   "metadata": {
    "collapsed": false,
    "ExecuteTime": {
     "end_time": "2024-08-16T14:51:04.276041600Z",
     "start_time": "2024-08-16T14:51:02.970677800Z"
    }
   }
  },
  {
   "cell_type": "markdown",
   "source": [
    "Now we take the input values of a user and store them in a data frame"
   ],
   "metadata": {
    "collapsed": false
   }
  },
  {
   "cell_type": "code",
   "execution_count": 8,
   "outputs": [
    {
     "data": {
      "text/plain": "                 title  rating\n0  Breakfast Club, The     5.0\n1            Toy Story     3.5\n2              Jumanji     2.0\n3         Pulp Fiction     5.0\n4                Akira     4.5",
      "text/html": "<div>\n<style scoped>\n    .dataframe tbody tr th:only-of-type {\n        vertical-align: middle;\n    }\n\n    .dataframe tbody tr th {\n        vertical-align: top;\n    }\n\n    .dataframe thead th {\n        text-align: right;\n    }\n</style>\n<table border=\"1\" class=\"dataframe\">\n  <thead>\n    <tr style=\"text-align: right;\">\n      <th></th>\n      <th>title</th>\n      <th>rating</th>\n    </tr>\n  </thead>\n  <tbody>\n    <tr>\n      <th>0</th>\n      <td>Breakfast Club, The</td>\n      <td>5.0</td>\n    </tr>\n    <tr>\n      <th>1</th>\n      <td>Toy Story</td>\n      <td>3.5</td>\n    </tr>\n    <tr>\n      <th>2</th>\n      <td>Jumanji</td>\n      <td>2.0</td>\n    </tr>\n    <tr>\n      <th>3</th>\n      <td>Pulp Fiction</td>\n      <td>5.0</td>\n    </tr>\n    <tr>\n      <th>4</th>\n      <td>Akira</td>\n      <td>4.5</td>\n    </tr>\n  </tbody>\n</table>\n</div>"
     },
     "execution_count": 8,
     "metadata": {},
     "output_type": "execute_result"
    }
   ],
   "source": [
    "userInput = [\n",
    "    {'title': 'Breakfast Club, The', 'rating': 5},\n",
    "    {'title': 'Toy Story', 'rating': 3.5},\n",
    "    {'title': 'Jumanji', 'rating': 2},\n",
    "    {'title': \"Pulp Fiction\", 'rating': 5},\n",
    "    {'title': 'Akira', 'rating': 4.5}\n",
    "]\n",
    "inputMovies = pd.DataFrame(userInput)\n",
    "inputMovies"
   ],
   "metadata": {
    "collapsed": false,
    "ExecuteTime": {
     "end_time": "2024-08-16T12:13:52.685390900Z",
     "start_time": "2024-08-16T12:13:52.658847Z"
    }
   }
  },
  {
   "cell_type": "markdown",
   "source": [
    "then we add movie id to user input"
   ],
   "metadata": {
    "collapsed": false
   }
  },
  {
   "cell_type": "code",
   "execution_count": 10,
   "outputs": [
    {
     "data": {
      "text/plain": "   movieId                title  rating\n0        1            Toy Story     3.5\n1        2              Jumanji     2.0\n2      296         Pulp Fiction     5.0\n3     1274                Akira     4.5\n4     1968  Breakfast Club, The     5.0",
      "text/html": "<div>\n<style scoped>\n    .dataframe tbody tr th:only-of-type {\n        vertical-align: middle;\n    }\n\n    .dataframe tbody tr th {\n        vertical-align: top;\n    }\n\n    .dataframe thead th {\n        text-align: right;\n    }\n</style>\n<table border=\"1\" class=\"dataframe\">\n  <thead>\n    <tr style=\"text-align: right;\">\n      <th></th>\n      <th>movieId</th>\n      <th>title</th>\n      <th>rating</th>\n    </tr>\n  </thead>\n  <tbody>\n    <tr>\n      <th>0</th>\n      <td>1</td>\n      <td>Toy Story</td>\n      <td>3.5</td>\n    </tr>\n    <tr>\n      <th>1</th>\n      <td>2</td>\n      <td>Jumanji</td>\n      <td>2.0</td>\n    </tr>\n    <tr>\n      <th>2</th>\n      <td>296</td>\n      <td>Pulp Fiction</td>\n      <td>5.0</td>\n    </tr>\n    <tr>\n      <th>3</th>\n      <td>1274</td>\n      <td>Akira</td>\n      <td>4.5</td>\n    </tr>\n    <tr>\n      <th>4</th>\n      <td>1968</td>\n      <td>Breakfast Club, The</td>\n      <td>5.0</td>\n    </tr>\n  </tbody>\n</table>\n</div>"
     },
     "execution_count": 10,
     "metadata": {},
     "output_type": "execute_result"
    }
   ],
   "source": [
    "inputId = movies_df[movies_df['title'].isin(inputMovies['title'].tolist())]\n",
    "inputMovies = pd.merge(inputId, inputMovies)\n",
    "inputMovies = inputMovies.drop('genres', axis=1).drop('year', axis=1)\n",
    "inputMovies"
   ],
   "metadata": {
    "collapsed": false,
    "ExecuteTime": {
     "end_time": "2024-08-16T14:45:54.567328200Z",
     "start_time": "2024-08-16T14:45:54.040546Z"
    }
   }
  },
  {
   "cell_type": "markdown",
   "source": [
    "then we select user movies from moviesWithGenres_df dataframe"
   ],
   "metadata": {
    "collapsed": false
   }
  },
  {
   "cell_type": "code",
   "execution_count": 24,
   "outputs": [
    {
     "data": {
      "text/plain": "      movieId  Adventure  Animation  Children  Comedy  Fantasy  Romance  \\\n0           1        1.0        1.0       1.0     1.0      1.0      0.0   \n1           2        1.0        0.0       1.0     0.0      1.0      0.0   \n257       296        0.0        0.0       0.0     1.0      0.0      0.0   \n973      1274        1.0        1.0       0.0     0.0      0.0      0.0   \n1445     1968        0.0        0.0       0.0     1.0      0.0      0.0   \n\n      Drama  Action  Crime  ...  Horror  Mystery  Sci-Fi  War  Musical  \\\n0       0.0     0.0    0.0  ...     0.0      0.0     0.0  0.0      0.0   \n1       0.0     0.0    0.0  ...     0.0      0.0     0.0  0.0      0.0   \n257     1.0     0.0    1.0  ...     0.0      0.0     0.0  0.0      0.0   \n973     0.0     1.0    0.0  ...     0.0      0.0     1.0  0.0      0.0   \n1445    1.0     0.0    0.0  ...     0.0      0.0     0.0  0.0      0.0   \n\n      Documentary  IMAX  Western  Film-Noir  (no genres listed)  \n0             0.0   0.0      0.0        0.0                 0.0  \n1             0.0   0.0      0.0        0.0                 0.0  \n257           0.0   0.0      0.0        0.0                 0.0  \n973           0.0   0.0      0.0        0.0                 0.0  \n1445          0.0   0.0      0.0        0.0                 0.0  \n\n[5 rows x 21 columns]",
      "text/html": "<div>\n<style scoped>\n    .dataframe tbody tr th:only-of-type {\n        vertical-align: middle;\n    }\n\n    .dataframe tbody tr th {\n        vertical-align: top;\n    }\n\n    .dataframe thead th {\n        text-align: right;\n    }\n</style>\n<table border=\"1\" class=\"dataframe\">\n  <thead>\n    <tr style=\"text-align: right;\">\n      <th></th>\n      <th>movieId</th>\n      <th>Adventure</th>\n      <th>Animation</th>\n      <th>Children</th>\n      <th>Comedy</th>\n      <th>Fantasy</th>\n      <th>Romance</th>\n      <th>Drama</th>\n      <th>Action</th>\n      <th>Crime</th>\n      <th>...</th>\n      <th>Horror</th>\n      <th>Mystery</th>\n      <th>Sci-Fi</th>\n      <th>War</th>\n      <th>Musical</th>\n      <th>Documentary</th>\n      <th>IMAX</th>\n      <th>Western</th>\n      <th>Film-Noir</th>\n      <th>(no genres listed)</th>\n    </tr>\n  </thead>\n  <tbody>\n    <tr>\n      <th>0</th>\n      <td>1</td>\n      <td>1.0</td>\n      <td>1.0</td>\n      <td>1.0</td>\n      <td>1.0</td>\n      <td>1.0</td>\n      <td>0.0</td>\n      <td>0.0</td>\n      <td>0.0</td>\n      <td>0.0</td>\n      <td>...</td>\n      <td>0.0</td>\n      <td>0.0</td>\n      <td>0.0</td>\n      <td>0.0</td>\n      <td>0.0</td>\n      <td>0.0</td>\n      <td>0.0</td>\n      <td>0.0</td>\n      <td>0.0</td>\n      <td>0.0</td>\n    </tr>\n    <tr>\n      <th>1</th>\n      <td>2</td>\n      <td>1.0</td>\n      <td>0.0</td>\n      <td>1.0</td>\n      <td>0.0</td>\n      <td>1.0</td>\n      <td>0.0</td>\n      <td>0.0</td>\n      <td>0.0</td>\n      <td>0.0</td>\n      <td>...</td>\n      <td>0.0</td>\n      <td>0.0</td>\n      <td>0.0</td>\n      <td>0.0</td>\n      <td>0.0</td>\n      <td>0.0</td>\n      <td>0.0</td>\n      <td>0.0</td>\n      <td>0.0</td>\n      <td>0.0</td>\n    </tr>\n    <tr>\n      <th>257</th>\n      <td>296</td>\n      <td>0.0</td>\n      <td>0.0</td>\n      <td>0.0</td>\n      <td>1.0</td>\n      <td>0.0</td>\n      <td>0.0</td>\n      <td>1.0</td>\n      <td>0.0</td>\n      <td>1.0</td>\n      <td>...</td>\n      <td>0.0</td>\n      <td>0.0</td>\n      <td>0.0</td>\n      <td>0.0</td>\n      <td>0.0</td>\n      <td>0.0</td>\n      <td>0.0</td>\n      <td>0.0</td>\n      <td>0.0</td>\n      <td>0.0</td>\n    </tr>\n    <tr>\n      <th>973</th>\n      <td>1274</td>\n      <td>1.0</td>\n      <td>1.0</td>\n      <td>0.0</td>\n      <td>0.0</td>\n      <td>0.0</td>\n      <td>0.0</td>\n      <td>0.0</td>\n      <td>1.0</td>\n      <td>0.0</td>\n      <td>...</td>\n      <td>0.0</td>\n      <td>0.0</td>\n      <td>1.0</td>\n      <td>0.0</td>\n      <td>0.0</td>\n      <td>0.0</td>\n      <td>0.0</td>\n      <td>0.0</td>\n      <td>0.0</td>\n      <td>0.0</td>\n    </tr>\n    <tr>\n      <th>1445</th>\n      <td>1968</td>\n      <td>0.0</td>\n      <td>0.0</td>\n      <td>0.0</td>\n      <td>1.0</td>\n      <td>0.0</td>\n      <td>0.0</td>\n      <td>1.0</td>\n      <td>0.0</td>\n      <td>0.0</td>\n      <td>...</td>\n      <td>0.0</td>\n      <td>0.0</td>\n      <td>0.0</td>\n      <td>0.0</td>\n      <td>0.0</td>\n      <td>0.0</td>\n      <td>0.0</td>\n      <td>0.0</td>\n      <td>0.0</td>\n      <td>0.0</td>\n    </tr>\n  </tbody>\n</table>\n<p>5 rows × 21 columns</p>\n</div>"
     },
     "execution_count": 24,
     "metadata": {},
     "output_type": "execute_result"
    }
   ],
   "source": [
    "userMovies = moviesWithGenres_df[moviesWithGenres_df['movieId'].isin(inputMovies['movieId'].tolist())]\n",
    "userMovies"
   ],
   "metadata": {
    "collapsed": false,
    "ExecuteTime": {
     "end_time": "2024-08-16T14:51:23.099202800Z",
     "start_time": "2024-08-16T14:51:22.962605Z"
    }
   }
  },
  {
   "cell_type": "markdown",
   "source": [
    "and now we make user profile"
   ],
   "metadata": {
    "collapsed": false
   }
  },
  {
   "cell_type": "code",
   "execution_count": 33,
   "outputs": [
    {
     "data": {
      "text/plain": "Adventure             10.0\nAnimation              8.0\nChildren               5.5\nComedy                13.5\nFantasy                5.5\nRomance                0.0\nDrama                 10.0\nAction                 4.5\nCrime                  5.0\nThriller               5.0\nHorror                 0.0\nMystery                0.0\nSci-Fi                 4.5\nWar                    0.0\nMusical                0.0\nDocumentary            0.0\nIMAX                   0.0\nWestern                0.0\nFilm-Noir              0.0\n(no genres listed)     0.0\ndtype: float64"
     },
     "execution_count": 33,
     "metadata": {},
     "output_type": "execute_result"
    }
   ],
   "source": [
    "userMovies = userMovies.reset_index(drop=True)\n",
    "userGenreTable = userMovies.drop('movieId', axis=1)\n",
    "\n",
    "userProfile = userGenreTable.transpose().dot(inputMovies['rating'])\n",
    "\n",
    "userProfile"
   ],
   "metadata": {
    "collapsed": false,
    "ExecuteTime": {
     "end_time": "2024-08-16T15:04:07.763998200Z",
     "start_time": "2024-08-16T15:04:07.636877600Z"
    }
   }
  },
  {
   "cell_type": "markdown",
   "source": [
    "and finally we got to create the recommendation table"
   ],
   "metadata": {
    "collapsed": false
   }
  },
  {
   "cell_type": "code",
   "execution_count": 36,
   "outputs": [
    {
     "data": {
      "text/plain": "movieId\n1         0.594406\n2         0.293706\n3         0.188811\n4         0.328671\n5         0.188811\n            ...   \n193581    0.440559\n193583    0.377622\n193585    0.139860\n193587    0.174825\n193609    0.188811\nLength: 9742, dtype: float64"
     },
     "execution_count": 36,
     "metadata": {},
     "output_type": "execute_result"
    }
   ],
   "source": [
    "genreTable = moviesWithGenres_df.set_index(moviesWithGenres_df['movieId'])\n",
    "recommendationTable_df = ((genreTable * userProfile).sum(axis=1)) / (userProfile.sum())\n",
    "recommendationTable_df"
   ],
   "metadata": {
    "collapsed": false,
    "ExecuteTime": {
     "end_time": "2024-08-16T15:07:21.970398500Z",
     "start_time": "2024-08-16T15:07:21.950246500Z"
    }
   }
  },
  {
   "cell_type": "markdown",
   "source": [
    "we sort them."
   ],
   "metadata": {
    "collapsed": false
   }
  },
  {
   "cell_type": "code",
   "execution_count": 37,
   "outputs": [
    {
     "data": {
      "text/plain": "movieId\n134853    0.734266\n148775    0.685315\n6902      0.678322\n117646    0.678322\n81132     0.671329\n            ...   \n49917     0.000000\n62662     0.000000\n50851     0.000000\n2459      0.000000\n5784      0.000000\nLength: 9742, dtype: float64"
     },
     "execution_count": 37,
     "metadata": {},
     "output_type": "execute_result"
    }
   ],
   "source": [
    "recommendationTable_df = recommendationTable_df.sort_values(ascending=False)\n",
    "recommendationTable_df"
   ],
   "metadata": {
    "collapsed": false,
    "ExecuteTime": {
     "end_time": "2024-08-16T15:07:59.318529Z",
     "start_time": "2024-08-16T15:07:59.297232500Z"
    }
   }
  },
  {
   "cell_type": "markdown",
   "source": [
    "And this is the twenty best movies for this user"
   ],
   "metadata": {
    "collapsed": false
   }
  },
  {
   "cell_type": "code",
   "execution_count": 38,
   "outputs": [
    {
     "data": {
      "text/plain": "      movieId                                              title  \\\n559       673                                          Space Jam   \n1390     1907                                              Mulan   \n2250     2987                           Who Framed Roger Rabbit?   \n3460     4719                                      Osmosis Jones   \n4631     6902                                      Interstate 60   \n5490    26340  Twelve Tasks of Asterix, The (Les douze travau...   \n5819    32031                                             Robots   \n6448    51939                TMNT (Teenage Mutant Ninja Turtles)   \n6455    52287                                 Meet the Robinsons   \n6462    52462  Aqua Teen Hunger Force Colon Movie Film for Th...   \n6879    62956                            Futurama: Bender's Game   \n7441    81132                                             Rubber   \n7550    85261                                    Mars Needs Moms   \n8349   108540           Ernest & Célestine (Ernest et Célestine)   \n8357   108932                                     The Lego Movie   \n8597   117646                     Dragonheart 2: A New Beginning   \n8806   130520                                               Home   \n8900   134853                                         Inside Out   \n9169   148775                Wizards of Waverly Place: The Movie   \n9282   157865                                    Ratchet & Clank   \n\n                                                 genres  year  \n559   [Adventure, Animation, Children, Comedy, Fanta...  1996  \n1390  [Adventure, Animation, Children, Comedy, Drama...  1998  \n2250  [Adventure, Animation, Children, Comedy, Crime...  1988  \n3460  [Action, Animation, Comedy, Crime, Drama, Roma...  2001  \n4631  [Adventure, Comedy, Drama, Fantasy, Mystery, S...  2002  \n5490  [Action, Adventure, Animation, Children, Comed...  1976  \n5819  [Adventure, Animation, Children, Comedy, Fanta...  2005  \n6448  [Action, Adventure, Animation, Children, Comed...  2007  \n6455  [Action, Adventure, Animation, Children, Comed...  2007  \n6462  [Action, Adventure, Animation, Comedy, Fantasy...  2007  \n6879  [Action, Adventure, Animation, Comedy, Fantasy...  2008  \n7441  [Action, Adventure, Comedy, Crime, Drama, Film...  2010  \n7550  [Action, Adventure, Animation, Children, Comed...  2011  \n8349  [Adventure, Animation, Children, Comedy, Drama...  2012  \n8357  [Action, Adventure, Animation, Children, Comed...  2014  \n8597  [Action, Adventure, Comedy, Drama, Fantasy, Th...  2000  \n8806  [Adventure, Animation, Children, Comedy, Fanta...  2015  \n8900  [Adventure, Animation, Children, Comedy, Drama...  2015  \n9169  [Adventure, Children, Comedy, Drama, Fantasy, ...  2009  \n9282  [Action, Adventure, Animation, Children, Comed...  2016  ",
      "text/html": "<div>\n<style scoped>\n    .dataframe tbody tr th:only-of-type {\n        vertical-align: middle;\n    }\n\n    .dataframe tbody tr th {\n        vertical-align: top;\n    }\n\n    .dataframe thead th {\n        text-align: right;\n    }\n</style>\n<table border=\"1\" class=\"dataframe\">\n  <thead>\n    <tr style=\"text-align: right;\">\n      <th></th>\n      <th>movieId</th>\n      <th>title</th>\n      <th>genres</th>\n      <th>year</th>\n    </tr>\n  </thead>\n  <tbody>\n    <tr>\n      <th>559</th>\n      <td>673</td>\n      <td>Space Jam</td>\n      <td>[Adventure, Animation, Children, Comedy, Fanta...</td>\n      <td>1996</td>\n    </tr>\n    <tr>\n      <th>1390</th>\n      <td>1907</td>\n      <td>Mulan</td>\n      <td>[Adventure, Animation, Children, Comedy, Drama...</td>\n      <td>1998</td>\n    </tr>\n    <tr>\n      <th>2250</th>\n      <td>2987</td>\n      <td>Who Framed Roger Rabbit?</td>\n      <td>[Adventure, Animation, Children, Comedy, Crime...</td>\n      <td>1988</td>\n    </tr>\n    <tr>\n      <th>3460</th>\n      <td>4719</td>\n      <td>Osmosis Jones</td>\n      <td>[Action, Animation, Comedy, Crime, Drama, Roma...</td>\n      <td>2001</td>\n    </tr>\n    <tr>\n      <th>4631</th>\n      <td>6902</td>\n      <td>Interstate 60</td>\n      <td>[Adventure, Comedy, Drama, Fantasy, Mystery, S...</td>\n      <td>2002</td>\n    </tr>\n    <tr>\n      <th>5490</th>\n      <td>26340</td>\n      <td>Twelve Tasks of Asterix, The (Les douze travau...</td>\n      <td>[Action, Adventure, Animation, Children, Comed...</td>\n      <td>1976</td>\n    </tr>\n    <tr>\n      <th>5819</th>\n      <td>32031</td>\n      <td>Robots</td>\n      <td>[Adventure, Animation, Children, Comedy, Fanta...</td>\n      <td>2005</td>\n    </tr>\n    <tr>\n      <th>6448</th>\n      <td>51939</td>\n      <td>TMNT (Teenage Mutant Ninja Turtles)</td>\n      <td>[Action, Adventure, Animation, Children, Comed...</td>\n      <td>2007</td>\n    </tr>\n    <tr>\n      <th>6455</th>\n      <td>52287</td>\n      <td>Meet the Robinsons</td>\n      <td>[Action, Adventure, Animation, Children, Comed...</td>\n      <td>2007</td>\n    </tr>\n    <tr>\n      <th>6462</th>\n      <td>52462</td>\n      <td>Aqua Teen Hunger Force Colon Movie Film for Th...</td>\n      <td>[Action, Adventure, Animation, Comedy, Fantasy...</td>\n      <td>2007</td>\n    </tr>\n    <tr>\n      <th>6879</th>\n      <td>62956</td>\n      <td>Futurama: Bender's Game</td>\n      <td>[Action, Adventure, Animation, Comedy, Fantasy...</td>\n      <td>2008</td>\n    </tr>\n    <tr>\n      <th>7441</th>\n      <td>81132</td>\n      <td>Rubber</td>\n      <td>[Action, Adventure, Comedy, Crime, Drama, Film...</td>\n      <td>2010</td>\n    </tr>\n    <tr>\n      <th>7550</th>\n      <td>85261</td>\n      <td>Mars Needs Moms</td>\n      <td>[Action, Adventure, Animation, Children, Comed...</td>\n      <td>2011</td>\n    </tr>\n    <tr>\n      <th>8349</th>\n      <td>108540</td>\n      <td>Ernest &amp; Célestine (Ernest et Célestine)</td>\n      <td>[Adventure, Animation, Children, Comedy, Drama...</td>\n      <td>2012</td>\n    </tr>\n    <tr>\n      <th>8357</th>\n      <td>108932</td>\n      <td>The Lego Movie</td>\n      <td>[Action, Adventure, Animation, Children, Comed...</td>\n      <td>2014</td>\n    </tr>\n    <tr>\n      <th>8597</th>\n      <td>117646</td>\n      <td>Dragonheart 2: A New Beginning</td>\n      <td>[Action, Adventure, Comedy, Drama, Fantasy, Th...</td>\n      <td>2000</td>\n    </tr>\n    <tr>\n      <th>8806</th>\n      <td>130520</td>\n      <td>Home</td>\n      <td>[Adventure, Animation, Children, Comedy, Fanta...</td>\n      <td>2015</td>\n    </tr>\n    <tr>\n      <th>8900</th>\n      <td>134853</td>\n      <td>Inside Out</td>\n      <td>[Adventure, Animation, Children, Comedy, Drama...</td>\n      <td>2015</td>\n    </tr>\n    <tr>\n      <th>9169</th>\n      <td>148775</td>\n      <td>Wizards of Waverly Place: The Movie</td>\n      <td>[Adventure, Children, Comedy, Drama, Fantasy, ...</td>\n      <td>2009</td>\n    </tr>\n    <tr>\n      <th>9282</th>\n      <td>157865</td>\n      <td>Ratchet &amp; Clank</td>\n      <td>[Action, Adventure, Animation, Children, Comed...</td>\n      <td>2016</td>\n    </tr>\n  </tbody>\n</table>\n</div>"
     },
     "execution_count": 38,
     "metadata": {},
     "output_type": "execute_result"
    }
   ],
   "source": [
    "movies_df.loc[movies_df['movieId'].isin(recommendationTable_df.head(20).keys())]"
   ],
   "metadata": {
    "collapsed": false,
    "ExecuteTime": {
     "end_time": "2024-08-16T15:09:40.253383400Z",
     "start_time": "2024-08-16T15:09:40.234054900Z"
    }
   }
  },
  {
   "cell_type": "markdown",
   "source": [
    "### Collaborative Based Recommender System"
   ],
   "metadata": {
    "collapsed": false
   }
  },
  {
   "cell_type": "markdown",
   "source": [
    "first we do some imports"
   ],
   "metadata": {
    "collapsed": false
   }
  },
  {
   "cell_type": "code",
   "execution_count": 79,
   "outputs": [],
   "source": [
    "from math import sqrt\n",
    "import numpy as np\n",
    "import pandas as pd"
   ],
   "metadata": {
    "collapsed": false,
    "ExecuteTime": {
     "end_time": "2024-08-16T19:24:15.085979900Z",
     "start_time": "2024-08-16T19:24:15.054728500Z"
    }
   }
  },
  {
   "cell_type": "markdown",
   "source": [
    "then we read the data frames"
   ],
   "metadata": {
    "collapsed": false
   }
  },
  {
   "cell_type": "code",
   "execution_count": 41,
   "outputs": [
    {
     "data": {
      "text/plain": "      movieId                                      title  \\\n0           1                           Toy Story (1995)   \n1           2                             Jumanji (1995)   \n2           3                    Grumpier Old Men (1995)   \n3           4                   Waiting to Exhale (1995)   \n4           5         Father of the Bride Part II (1995)   \n...       ...                                        ...   \n9737   193581  Black Butler: Book of the Atlantic (2017)   \n9738   193583               No Game No Life: Zero (2017)   \n9739   193585                               Flint (2017)   \n9740   193587        Bungo Stray Dogs: Dead Apple (2018)   \n9741   193609        Andrew Dice Clay: Dice Rules (1991)   \n\n                                           genres  \n0     Adventure|Animation|Children|Comedy|Fantasy  \n1                      Adventure|Children|Fantasy  \n2                                  Comedy|Romance  \n3                            Comedy|Drama|Romance  \n4                                          Comedy  \n...                                           ...  \n9737              Action|Animation|Comedy|Fantasy  \n9738                     Animation|Comedy|Fantasy  \n9739                                        Drama  \n9740                             Action|Animation  \n9741                                       Comedy  \n\n[9742 rows x 3 columns]",
      "text/html": "<div>\n<style scoped>\n    .dataframe tbody tr th:only-of-type {\n        vertical-align: middle;\n    }\n\n    .dataframe tbody tr th {\n        vertical-align: top;\n    }\n\n    .dataframe thead th {\n        text-align: right;\n    }\n</style>\n<table border=\"1\" class=\"dataframe\">\n  <thead>\n    <tr style=\"text-align: right;\">\n      <th></th>\n      <th>movieId</th>\n      <th>title</th>\n      <th>genres</th>\n    </tr>\n  </thead>\n  <tbody>\n    <tr>\n      <th>0</th>\n      <td>1</td>\n      <td>Toy Story (1995)</td>\n      <td>Adventure|Animation|Children|Comedy|Fantasy</td>\n    </tr>\n    <tr>\n      <th>1</th>\n      <td>2</td>\n      <td>Jumanji (1995)</td>\n      <td>Adventure|Children|Fantasy</td>\n    </tr>\n    <tr>\n      <th>2</th>\n      <td>3</td>\n      <td>Grumpier Old Men (1995)</td>\n      <td>Comedy|Romance</td>\n    </tr>\n    <tr>\n      <th>3</th>\n      <td>4</td>\n      <td>Waiting to Exhale (1995)</td>\n      <td>Comedy|Drama|Romance</td>\n    </tr>\n    <tr>\n      <th>4</th>\n      <td>5</td>\n      <td>Father of the Bride Part II (1995)</td>\n      <td>Comedy</td>\n    </tr>\n    <tr>\n      <th>...</th>\n      <td>...</td>\n      <td>...</td>\n      <td>...</td>\n    </tr>\n    <tr>\n      <th>9737</th>\n      <td>193581</td>\n      <td>Black Butler: Book of the Atlantic (2017)</td>\n      <td>Action|Animation|Comedy|Fantasy</td>\n    </tr>\n    <tr>\n      <th>9738</th>\n      <td>193583</td>\n      <td>No Game No Life: Zero (2017)</td>\n      <td>Animation|Comedy|Fantasy</td>\n    </tr>\n    <tr>\n      <th>9739</th>\n      <td>193585</td>\n      <td>Flint (2017)</td>\n      <td>Drama</td>\n    </tr>\n    <tr>\n      <th>9740</th>\n      <td>193587</td>\n      <td>Bungo Stray Dogs: Dead Apple (2018)</td>\n      <td>Action|Animation</td>\n    </tr>\n    <tr>\n      <th>9741</th>\n      <td>193609</td>\n      <td>Andrew Dice Clay: Dice Rules (1991)</td>\n      <td>Comedy</td>\n    </tr>\n  </tbody>\n</table>\n<p>9742 rows × 3 columns</p>\n</div>"
     },
     "execution_count": 41,
     "metadata": {},
     "output_type": "execute_result"
    }
   ],
   "source": [
    "movies_df = pd.read_csv('movies.csv')\n",
    "movies_df"
   ],
   "metadata": {
    "collapsed": false,
    "ExecuteTime": {
     "end_time": "2024-08-16T15:12:47.371836400Z",
     "start_time": "2024-08-16T15:12:46.935172800Z"
    }
   }
  },
  {
   "cell_type": "code",
   "execution_count": 43,
   "outputs": [
    {
     "data": {
      "text/plain": "        userId  movieId  rating   timestamp\n0            1        1     4.0   964982703\n1            1        3     4.0   964981247\n2            1        6     4.0   964982224\n3            1       47     5.0   964983815\n4            1       50     5.0   964982931\n...        ...      ...     ...         ...\n100831     610   166534     4.0  1493848402\n100832     610   168248     5.0  1493850091\n100833     610   168250     5.0  1494273047\n100834     610   168252     5.0  1493846352\n100835     610   170875     3.0  1493846415\n\n[100836 rows x 4 columns]",
      "text/html": "<div>\n<style scoped>\n    .dataframe tbody tr th:only-of-type {\n        vertical-align: middle;\n    }\n\n    .dataframe tbody tr th {\n        vertical-align: top;\n    }\n\n    .dataframe thead th {\n        text-align: right;\n    }\n</style>\n<table border=\"1\" class=\"dataframe\">\n  <thead>\n    <tr style=\"text-align: right;\">\n      <th></th>\n      <th>userId</th>\n      <th>movieId</th>\n      <th>rating</th>\n      <th>timestamp</th>\n    </tr>\n  </thead>\n  <tbody>\n    <tr>\n      <th>0</th>\n      <td>1</td>\n      <td>1</td>\n      <td>4.0</td>\n      <td>964982703</td>\n    </tr>\n    <tr>\n      <th>1</th>\n      <td>1</td>\n      <td>3</td>\n      <td>4.0</td>\n      <td>964981247</td>\n    </tr>\n    <tr>\n      <th>2</th>\n      <td>1</td>\n      <td>6</td>\n      <td>4.0</td>\n      <td>964982224</td>\n    </tr>\n    <tr>\n      <th>3</th>\n      <td>1</td>\n      <td>47</td>\n      <td>5.0</td>\n      <td>964983815</td>\n    </tr>\n    <tr>\n      <th>4</th>\n      <td>1</td>\n      <td>50</td>\n      <td>5.0</td>\n      <td>964982931</td>\n    </tr>\n    <tr>\n      <th>...</th>\n      <td>...</td>\n      <td>...</td>\n      <td>...</td>\n      <td>...</td>\n    </tr>\n    <tr>\n      <th>100831</th>\n      <td>610</td>\n      <td>166534</td>\n      <td>4.0</td>\n      <td>1493848402</td>\n    </tr>\n    <tr>\n      <th>100832</th>\n      <td>610</td>\n      <td>168248</td>\n      <td>5.0</td>\n      <td>1493850091</td>\n    </tr>\n    <tr>\n      <th>100833</th>\n      <td>610</td>\n      <td>168250</td>\n      <td>5.0</td>\n      <td>1494273047</td>\n    </tr>\n    <tr>\n      <th>100834</th>\n      <td>610</td>\n      <td>168252</td>\n      <td>5.0</td>\n      <td>1493846352</td>\n    </tr>\n    <tr>\n      <th>100835</th>\n      <td>610</td>\n      <td>170875</td>\n      <td>3.0</td>\n      <td>1493846415</td>\n    </tr>\n  </tbody>\n</table>\n<p>100836 rows × 4 columns</p>\n</div>"
     },
     "execution_count": 43,
     "metadata": {},
     "output_type": "execute_result"
    }
   ],
   "source": [
    "ratings_df = pd.read_csv('ratings.csv')\n",
    "ratings_df"
   ],
   "metadata": {
    "collapsed": false,
    "ExecuteTime": {
     "end_time": "2024-08-16T15:13:20.172856300Z",
     "start_time": "2024-08-16T15:13:19.909386200Z"
    }
   }
  },
  {
   "cell_type": "markdown",
   "source": [
    "First, we separate the year values and store them in a separate column"
   ],
   "metadata": {
    "collapsed": false
   }
  },
  {
   "cell_type": "code",
   "execution_count": 44,
   "outputs": [
    {
     "data": {
      "text/plain": "      movieId                               title  \\\n0           1                           Toy Story   \n1           2                             Jumanji   \n2           3                    Grumpier Old Men   \n3           4                   Waiting to Exhale   \n4           5         Father of the Bride Part II   \n...       ...                                 ...   \n9737   193581  Black Butler: Book of the Atlantic   \n9738   193583               No Game No Life: Zero   \n9739   193585                               Flint   \n9740   193587        Bungo Stray Dogs: Dead Apple   \n9741   193609        Andrew Dice Clay: Dice Rules   \n\n                                           genres  year  \n0     Adventure|Animation|Children|Comedy|Fantasy  1995  \n1                      Adventure|Children|Fantasy  1995  \n2                                  Comedy|Romance  1995  \n3                            Comedy|Drama|Romance  1995  \n4                                          Comedy  1995  \n...                                           ...   ...  \n9737              Action|Animation|Comedy|Fantasy  2017  \n9738                     Animation|Comedy|Fantasy  2017  \n9739                                        Drama  2017  \n9740                             Action|Animation  2018  \n9741                                       Comedy  1991  \n\n[9742 rows x 4 columns]",
      "text/html": "<div>\n<style scoped>\n    .dataframe tbody tr th:only-of-type {\n        vertical-align: middle;\n    }\n\n    .dataframe tbody tr th {\n        vertical-align: top;\n    }\n\n    .dataframe thead th {\n        text-align: right;\n    }\n</style>\n<table border=\"1\" class=\"dataframe\">\n  <thead>\n    <tr style=\"text-align: right;\">\n      <th></th>\n      <th>movieId</th>\n      <th>title</th>\n      <th>genres</th>\n      <th>year</th>\n    </tr>\n  </thead>\n  <tbody>\n    <tr>\n      <th>0</th>\n      <td>1</td>\n      <td>Toy Story</td>\n      <td>Adventure|Animation|Children|Comedy|Fantasy</td>\n      <td>1995</td>\n    </tr>\n    <tr>\n      <th>1</th>\n      <td>2</td>\n      <td>Jumanji</td>\n      <td>Adventure|Children|Fantasy</td>\n      <td>1995</td>\n    </tr>\n    <tr>\n      <th>2</th>\n      <td>3</td>\n      <td>Grumpier Old Men</td>\n      <td>Comedy|Romance</td>\n      <td>1995</td>\n    </tr>\n    <tr>\n      <th>3</th>\n      <td>4</td>\n      <td>Waiting to Exhale</td>\n      <td>Comedy|Drama|Romance</td>\n      <td>1995</td>\n    </tr>\n    <tr>\n      <th>4</th>\n      <td>5</td>\n      <td>Father of the Bride Part II</td>\n      <td>Comedy</td>\n      <td>1995</td>\n    </tr>\n    <tr>\n      <th>...</th>\n      <td>...</td>\n      <td>...</td>\n      <td>...</td>\n      <td>...</td>\n    </tr>\n    <tr>\n      <th>9737</th>\n      <td>193581</td>\n      <td>Black Butler: Book of the Atlantic</td>\n      <td>Action|Animation|Comedy|Fantasy</td>\n      <td>2017</td>\n    </tr>\n    <tr>\n      <th>9738</th>\n      <td>193583</td>\n      <td>No Game No Life: Zero</td>\n      <td>Animation|Comedy|Fantasy</td>\n      <td>2017</td>\n    </tr>\n    <tr>\n      <th>9739</th>\n      <td>193585</td>\n      <td>Flint</td>\n      <td>Drama</td>\n      <td>2017</td>\n    </tr>\n    <tr>\n      <th>9740</th>\n      <td>193587</td>\n      <td>Bungo Stray Dogs: Dead Apple</td>\n      <td>Action|Animation</td>\n      <td>2018</td>\n    </tr>\n    <tr>\n      <th>9741</th>\n      <td>193609</td>\n      <td>Andrew Dice Clay: Dice Rules</td>\n      <td>Comedy</td>\n      <td>1991</td>\n    </tr>\n  </tbody>\n</table>\n<p>9742 rows × 4 columns</p>\n</div>"
     },
     "execution_count": 44,
     "metadata": {},
     "output_type": "execute_result"
    }
   ],
   "source": [
    "movies_df['year'] = movies_df.title.str.extract('(\\(\\d\\d\\d\\d\\))', expand=False)\n",
    "movies_df['year'] = movies_df.year.str.extract('(\\d\\d\\d\\d)', expand=False)\n",
    "movies_df['title'] = movies_df['title'].str.replace('(\\(\\d\\d\\d\\d\\))', '', regex=True)\n",
    "movies_df['title'] = movies_df['title'].apply(lambda x: x.strip())\n",
    "\n",
    "movies_df"
   ],
   "metadata": {
    "collapsed": false,
    "ExecuteTime": {
     "end_time": "2024-08-16T15:14:18.228001300Z",
     "start_time": "2024-08-16T15:14:18.188257600Z"
    }
   }
  },
  {
   "cell_type": "markdown",
   "source": [
    "we remove genre column because in collaborative systems we dont need them"
   ],
   "metadata": {
    "collapsed": false
   }
  },
  {
   "cell_type": "code",
   "execution_count": 45,
   "outputs": [
    {
     "data": {
      "text/plain": "      movieId                               title  year\n0           1                           Toy Story  1995\n1           2                             Jumanji  1995\n2           3                    Grumpier Old Men  1995\n3           4                   Waiting to Exhale  1995\n4           5         Father of the Bride Part II  1995\n...       ...                                 ...   ...\n9737   193581  Black Butler: Book of the Atlantic  2017\n9738   193583               No Game No Life: Zero  2017\n9739   193585                               Flint  2017\n9740   193587        Bungo Stray Dogs: Dead Apple  2018\n9741   193609        Andrew Dice Clay: Dice Rules  1991\n\n[9742 rows x 3 columns]",
      "text/html": "<div>\n<style scoped>\n    .dataframe tbody tr th:only-of-type {\n        vertical-align: middle;\n    }\n\n    .dataframe tbody tr th {\n        vertical-align: top;\n    }\n\n    .dataframe thead th {\n        text-align: right;\n    }\n</style>\n<table border=\"1\" class=\"dataframe\">\n  <thead>\n    <tr style=\"text-align: right;\">\n      <th></th>\n      <th>movieId</th>\n      <th>title</th>\n      <th>year</th>\n    </tr>\n  </thead>\n  <tbody>\n    <tr>\n      <th>0</th>\n      <td>1</td>\n      <td>Toy Story</td>\n      <td>1995</td>\n    </tr>\n    <tr>\n      <th>1</th>\n      <td>2</td>\n      <td>Jumanji</td>\n      <td>1995</td>\n    </tr>\n    <tr>\n      <th>2</th>\n      <td>3</td>\n      <td>Grumpier Old Men</td>\n      <td>1995</td>\n    </tr>\n    <tr>\n      <th>3</th>\n      <td>4</td>\n      <td>Waiting to Exhale</td>\n      <td>1995</td>\n    </tr>\n    <tr>\n      <th>4</th>\n      <td>5</td>\n      <td>Father of the Bride Part II</td>\n      <td>1995</td>\n    </tr>\n    <tr>\n      <th>...</th>\n      <td>...</td>\n      <td>...</td>\n      <td>...</td>\n    </tr>\n    <tr>\n      <th>9737</th>\n      <td>193581</td>\n      <td>Black Butler: Book of the Atlantic</td>\n      <td>2017</td>\n    </tr>\n    <tr>\n      <th>9738</th>\n      <td>193583</td>\n      <td>No Game No Life: Zero</td>\n      <td>2017</td>\n    </tr>\n    <tr>\n      <th>9739</th>\n      <td>193585</td>\n      <td>Flint</td>\n      <td>2017</td>\n    </tr>\n    <tr>\n      <th>9740</th>\n      <td>193587</td>\n      <td>Bungo Stray Dogs: Dead Apple</td>\n      <td>2018</td>\n    </tr>\n    <tr>\n      <th>9741</th>\n      <td>193609</td>\n      <td>Andrew Dice Clay: Dice Rules</td>\n      <td>1991</td>\n    </tr>\n  </tbody>\n</table>\n<p>9742 rows × 3 columns</p>\n</div>"
     },
     "execution_count": 45,
     "metadata": {},
     "output_type": "execute_result"
    }
   ],
   "source": [
    "movies_df = movies_df.drop('genres', axis=1)\n",
    "movies_df"
   ],
   "metadata": {
    "collapsed": false,
    "ExecuteTime": {
     "end_time": "2024-08-16T16:08:11.531535500Z",
     "start_time": "2024-08-16T16:08:11.522752100Z"
    }
   }
  },
  {
   "cell_type": "markdown",
   "source": [
    "we remove timestamp from ratings dataframe"
   ],
   "metadata": {
    "collapsed": false
   }
  },
  {
   "cell_type": "code",
   "execution_count": 46,
   "outputs": [
    {
     "data": {
      "text/plain": "        userId  movieId  rating\n0            1        1     4.0\n1            1        3     4.0\n2            1        6     4.0\n3            1       47     5.0\n4            1       50     5.0\n...        ...      ...     ...\n100831     610   166534     4.0\n100832     610   168248     5.0\n100833     610   168250     5.0\n100834     610   168252     5.0\n100835     610   170875     3.0\n\n[100836 rows x 3 columns]",
      "text/html": "<div>\n<style scoped>\n    .dataframe tbody tr th:only-of-type {\n        vertical-align: middle;\n    }\n\n    .dataframe tbody tr th {\n        vertical-align: top;\n    }\n\n    .dataframe thead th {\n        text-align: right;\n    }\n</style>\n<table border=\"1\" class=\"dataframe\">\n  <thead>\n    <tr style=\"text-align: right;\">\n      <th></th>\n      <th>userId</th>\n      <th>movieId</th>\n      <th>rating</th>\n    </tr>\n  </thead>\n  <tbody>\n    <tr>\n      <th>0</th>\n      <td>1</td>\n      <td>1</td>\n      <td>4.0</td>\n    </tr>\n    <tr>\n      <th>1</th>\n      <td>1</td>\n      <td>3</td>\n      <td>4.0</td>\n    </tr>\n    <tr>\n      <th>2</th>\n      <td>1</td>\n      <td>6</td>\n      <td>4.0</td>\n    </tr>\n    <tr>\n      <th>3</th>\n      <td>1</td>\n      <td>47</td>\n      <td>5.0</td>\n    </tr>\n    <tr>\n      <th>4</th>\n      <td>1</td>\n      <td>50</td>\n      <td>5.0</td>\n    </tr>\n    <tr>\n      <th>...</th>\n      <td>...</td>\n      <td>...</td>\n      <td>...</td>\n    </tr>\n    <tr>\n      <th>100831</th>\n      <td>610</td>\n      <td>166534</td>\n      <td>4.0</td>\n    </tr>\n    <tr>\n      <th>100832</th>\n      <td>610</td>\n      <td>168248</td>\n      <td>5.0</td>\n    </tr>\n    <tr>\n      <th>100833</th>\n      <td>610</td>\n      <td>168250</td>\n      <td>5.0</td>\n    </tr>\n    <tr>\n      <th>100834</th>\n      <td>610</td>\n      <td>168252</td>\n      <td>5.0</td>\n    </tr>\n    <tr>\n      <th>100835</th>\n      <td>610</td>\n      <td>170875</td>\n      <td>3.0</td>\n    </tr>\n  </tbody>\n</table>\n<p>100836 rows × 3 columns</p>\n</div>"
     },
     "execution_count": 46,
     "metadata": {},
     "output_type": "execute_result"
    }
   ],
   "source": [
    "ratings_df = ratings_df.drop('timestamp', axis=1)\n",
    "ratings_df"
   ],
   "metadata": {
    "collapsed": false,
    "ExecuteTime": {
     "end_time": "2024-08-16T16:09:00.318993300Z",
     "start_time": "2024-08-16T16:09:00.293583200Z"
    }
   }
  },
  {
   "cell_type": "markdown",
   "source": [
    "Now we take the input values of a user and store them in a data frame"
   ],
   "metadata": {
    "collapsed": false
   }
  },
  {
   "cell_type": "code",
   "execution_count": 47,
   "outputs": [
    {
     "data": {
      "text/plain": "                 title  rating\n0  Breakfast Club, The     5.0\n1            Toy Story     3.5\n2              Jumanji     2.0\n3         Pulp Fiction     5.0\n4                Akira     4.5",
      "text/html": "<div>\n<style scoped>\n    .dataframe tbody tr th:only-of-type {\n        vertical-align: middle;\n    }\n\n    .dataframe tbody tr th {\n        vertical-align: top;\n    }\n\n    .dataframe thead th {\n        text-align: right;\n    }\n</style>\n<table border=\"1\" class=\"dataframe\">\n  <thead>\n    <tr style=\"text-align: right;\">\n      <th></th>\n      <th>title</th>\n      <th>rating</th>\n    </tr>\n  </thead>\n  <tbody>\n    <tr>\n      <th>0</th>\n      <td>Breakfast Club, The</td>\n      <td>5.0</td>\n    </tr>\n    <tr>\n      <th>1</th>\n      <td>Toy Story</td>\n      <td>3.5</td>\n    </tr>\n    <tr>\n      <th>2</th>\n      <td>Jumanji</td>\n      <td>2.0</td>\n    </tr>\n    <tr>\n      <th>3</th>\n      <td>Pulp Fiction</td>\n      <td>5.0</td>\n    </tr>\n    <tr>\n      <th>4</th>\n      <td>Akira</td>\n      <td>4.5</td>\n    </tr>\n  </tbody>\n</table>\n</div>"
     },
     "execution_count": 47,
     "metadata": {},
     "output_type": "execute_result"
    }
   ],
   "source": [
    "userInput = [\n",
    "    {'title': 'Breakfast Club, The', 'rating': 5},\n",
    "    {'title': 'Toy Story', 'rating': 3.5},\n",
    "    {'title': 'Jumanji', 'rating': 2},\n",
    "    {'title': \"Pulp Fiction\", 'rating': 5},\n",
    "    {'title': 'Akira', 'rating': 4.5}\n",
    "]\n",
    "inputMovies = pd.DataFrame(userInput)\n",
    "inputMovies"
   ],
   "metadata": {
    "collapsed": false,
    "ExecuteTime": {
     "end_time": "2024-08-16T16:09:19.762544300Z",
     "start_time": "2024-08-16T16:09:19.754683Z"
    }
   }
  },
  {
   "cell_type": "markdown",
   "source": [
    "then we add movie id to user input"
   ],
   "metadata": {
    "collapsed": false
   }
  },
  {
   "cell_type": "code",
   "execution_count": 49,
   "outputs": [
    {
     "data": {
      "text/plain": "   movieId                title  rating\n0        1            Toy Story     3.5\n1        2              Jumanji     2.0\n2      296         Pulp Fiction     5.0\n3     1274                Akira     4.5\n4     1968  Breakfast Club, The     5.0",
      "text/html": "<div>\n<style scoped>\n    .dataframe tbody tr th:only-of-type {\n        vertical-align: middle;\n    }\n\n    .dataframe tbody tr th {\n        vertical-align: top;\n    }\n\n    .dataframe thead th {\n        text-align: right;\n    }\n</style>\n<table border=\"1\" class=\"dataframe\">\n  <thead>\n    <tr style=\"text-align: right;\">\n      <th></th>\n      <th>movieId</th>\n      <th>title</th>\n      <th>rating</th>\n    </tr>\n  </thead>\n  <tbody>\n    <tr>\n      <th>0</th>\n      <td>1</td>\n      <td>Toy Story</td>\n      <td>3.5</td>\n    </tr>\n    <tr>\n      <th>1</th>\n      <td>2</td>\n      <td>Jumanji</td>\n      <td>2.0</td>\n    </tr>\n    <tr>\n      <th>2</th>\n      <td>296</td>\n      <td>Pulp Fiction</td>\n      <td>5.0</td>\n    </tr>\n    <tr>\n      <th>3</th>\n      <td>1274</td>\n      <td>Akira</td>\n      <td>4.5</td>\n    </tr>\n    <tr>\n      <th>4</th>\n      <td>1968</td>\n      <td>Breakfast Club, The</td>\n      <td>5.0</td>\n    </tr>\n  </tbody>\n</table>\n</div>"
     },
     "execution_count": 49,
     "metadata": {},
     "output_type": "execute_result"
    }
   ],
   "source": [
    "inputId = movies_df[movies_df['title'].isin(inputMovies['title'].tolist())]\n",
    "inputMovies = pd.merge(inputId, inputMovies)\n",
    "inputMovies = inputMovies.drop('year', axis=1)\n",
    "inputMovies"
   ],
   "metadata": {
    "collapsed": false,
    "ExecuteTime": {
     "end_time": "2024-08-16T16:11:01.538452100Z",
     "start_time": "2024-08-16T16:11:01.468880900Z"
    }
   }
  },
  {
   "cell_type": "markdown",
   "source": [
    "now we find the users who has seen the same movies"
   ],
   "metadata": {
    "collapsed": false
   }
  },
  {
   "cell_type": "code",
   "execution_count": 50,
   "outputs": [
    {
     "data": {
      "text/plain": "       userId  movieId  rating\n0           1        1     4.0\n16          1      296     3.0\n320         4      296     1.0\n422         4     1968     4.0\n516         5        1     4.0\n...       ...      ...     ...\n99510     609      296     4.0\n99534     610        1     5.0\n99552     610      296     5.0\n99636     610     1274     5.0\n99664     610     1968     4.0\n\n[784 rows x 3 columns]",
      "text/html": "<div>\n<style scoped>\n    .dataframe tbody tr th:only-of-type {\n        vertical-align: middle;\n    }\n\n    .dataframe tbody tr th {\n        vertical-align: top;\n    }\n\n    .dataframe thead th {\n        text-align: right;\n    }\n</style>\n<table border=\"1\" class=\"dataframe\">\n  <thead>\n    <tr style=\"text-align: right;\">\n      <th></th>\n      <th>userId</th>\n      <th>movieId</th>\n      <th>rating</th>\n    </tr>\n  </thead>\n  <tbody>\n    <tr>\n      <th>0</th>\n      <td>1</td>\n      <td>1</td>\n      <td>4.0</td>\n    </tr>\n    <tr>\n      <th>16</th>\n      <td>1</td>\n      <td>296</td>\n      <td>3.0</td>\n    </tr>\n    <tr>\n      <th>320</th>\n      <td>4</td>\n      <td>296</td>\n      <td>1.0</td>\n    </tr>\n    <tr>\n      <th>422</th>\n      <td>4</td>\n      <td>1968</td>\n      <td>4.0</td>\n    </tr>\n    <tr>\n      <th>516</th>\n      <td>5</td>\n      <td>1</td>\n      <td>4.0</td>\n    </tr>\n    <tr>\n      <th>...</th>\n      <td>...</td>\n      <td>...</td>\n      <td>...</td>\n    </tr>\n    <tr>\n      <th>99510</th>\n      <td>609</td>\n      <td>296</td>\n      <td>4.0</td>\n    </tr>\n    <tr>\n      <th>99534</th>\n      <td>610</td>\n      <td>1</td>\n      <td>5.0</td>\n    </tr>\n    <tr>\n      <th>99552</th>\n      <td>610</td>\n      <td>296</td>\n      <td>5.0</td>\n    </tr>\n    <tr>\n      <th>99636</th>\n      <td>610</td>\n      <td>1274</td>\n      <td>5.0</td>\n    </tr>\n    <tr>\n      <th>99664</th>\n      <td>610</td>\n      <td>1968</td>\n      <td>4.0</td>\n    </tr>\n  </tbody>\n</table>\n<p>784 rows × 3 columns</p>\n</div>"
     },
     "execution_count": 50,
     "metadata": {},
     "output_type": "execute_result"
    }
   ],
   "source": [
    "userSubset = ratings_df[ratings_df['movieId'].isin(inputMovies['movieId'].tolist())]\n",
    "userSubset"
   ],
   "metadata": {
    "collapsed": false,
    "ExecuteTime": {
     "end_time": "2024-08-16T18:39:22.408953700Z",
     "start_time": "2024-08-16T18:39:22.344898700Z"
    }
   }
  },
  {
   "cell_type": "markdown",
   "source": [
    "and we group that by user id"
   ],
   "metadata": {
    "collapsed": false
   }
  },
  {
   "cell_type": "code",
   "execution_count": 53,
   "outputs": [
    {
     "name": "stderr",
     "output_type": "stream",
     "text": [
      "C:\\Users\\Erfan Aliannezhadi\\AppData\\Local\\Temp\\ipykernel_8496\\1721940702.py:2: FutureWarning: When grouping with a length-1 list-like, you will need to pass a length-1 tuple to get_group in a future version of pandas. Pass `(name,)` instead of `name` to silence this warning.\n",
      "  userSubsetGroup.get_group(1)\n"
     ]
    },
    {
     "data": {
      "text/plain": "    userId  movieId  rating\n0        1        1     4.0\n16       1      296     3.0",
      "text/html": "<div>\n<style scoped>\n    .dataframe tbody tr th:only-of-type {\n        vertical-align: middle;\n    }\n\n    .dataframe tbody tr th {\n        vertical-align: top;\n    }\n\n    .dataframe thead th {\n        text-align: right;\n    }\n</style>\n<table border=\"1\" class=\"dataframe\">\n  <thead>\n    <tr style=\"text-align: right;\">\n      <th></th>\n      <th>userId</th>\n      <th>movieId</th>\n      <th>rating</th>\n    </tr>\n  </thead>\n  <tbody>\n    <tr>\n      <th>0</th>\n      <td>1</td>\n      <td>1</td>\n      <td>4.0</td>\n    </tr>\n    <tr>\n      <th>16</th>\n      <td>1</td>\n      <td>296</td>\n      <td>3.0</td>\n    </tr>\n  </tbody>\n</table>\n</div>"
     },
     "execution_count": 53,
     "metadata": {},
     "output_type": "execute_result"
    }
   ],
   "source": [
    "userSubsetGroup = userSubset.groupby(['userId'])\n",
    "userSubsetGroup.get_group(1)"
   ],
   "metadata": {
    "collapsed": false,
    "ExecuteTime": {
     "end_time": "2024-08-16T18:40:34.373991700Z",
     "start_time": "2024-08-16T18:40:34.274340400Z"
    }
   }
  },
  {
   "cell_type": "markdown",
   "source": [
    "computing the similarity of users to input user"
   ],
   "metadata": {
    "collapsed": false
   }
  },
  {
   "cell_type": "code",
   "execution_count": 58,
   "outputs": [
    {
     "data": {
      "text/plain": "dict_items([((1,), -1.0), ((4,), 0), ((5,), 1.0), ((6,), -1.0), ((7,), 0), ((8,), 0), ((10,), 0), ((14,), 0), ((15,), 1.0), ((16,), 0), ((17,), 1.0), ((18,), 1.0), ((19,), -0.5), ((20,), 0), ((21,), 0), ((23,), -1.0), ((24,), 0), ((26,), 0), ((27,), -1.0), ((28,), 0), ((29,), 0), ((31,), 0), ((32,), 1.0), ((33,), 1.0), ((37,), 0), ((38,), 0), ((39,), 0), ((40,), 0), ((41,), 0), ((42,), 0), ((43,), -1.0), ((44,), 0), ((45,), 0.5000000000000009), ((46,), 0), ((47,), 0), ((50,), 0.15713484026367722), ((51,), 0), ((54,), 0), ((56,), 0), ((57,), -0.7385489458759964), ((58,), 0), ((62,), 1.0), ((63,), -0.4999999999999982), ((64,), 0.0), ((66,), 0.5000000000000009), ((67,), 0), ((68,), 0.0), ((69,), 0), ((70,), 0), ((71,), 0), ((72,), 0), ((73,), 0), ((74,), 0), ((76,), 1.0), ((78,), 0), ((81,), 0), ((82,), -1.0), ((84,), 0), ((86,), 0), ((89,), 0), ((90,), 0), ((91,), 0.43852900965351443), ((93,), -1.0), ((94,), 0), ((95,), -1.0), ((96,), 0), ((98,), 0), ((99,), 0), ((100,), 0), ((102,), 0), ((103,), 0.5222329678670935), ((104,), 0), ((105,), 1.0), ((107,), -1.0), ((108,), 0), ((109,), 0), ((110,), 0), ((112,), 1.0), ((115,), 0), ((117,), 1.0), ((118,), 0), ((119,), 1.0), ((121,), 0), ((122,), 0.8660254037844387), ((123,), 0), ((124,), 1.0), ((125,), 1.0), ((126,), 0), ((129,), 0), ((130,), 1.0), ((131,), 0), ((132,), 1.0000000000000004), ((133,), 0), ((134,), 1.0), ((135,), 0.8703882797784892), ((136,), 0), ((137,), -1.0), ((140,), 0.5), ((141,), 0), ((142,), 0), ((143,), 0), ((144,), 1.0), ((145,), -1.0), ((149,), 0), ((151,), 0), ((152,), 0), ((153,), 0.8660254037844379), ((155,), -1.0), ((156,), 0.1889822365046138), ((159,), -1.0), ((160,), 0.8660254037844402), ((161,), 0), ((162,), 0), ((166,), -0.6546536707079772), ((167,), -1.0), ((168,), 0), ((169,), 1.0), ((170,), 0), ((171,), 0), ((173,), 0), ((174,), 0), ((176,), 0), ((177,), 0.0), ((178,), 1.0), ((179,), 0), ((181,), 0), ((182,), 0.9428090415820635), ((185,), 0), ((186,), 0), ((187,), 1.0), ((191,), 1.0), ((192,), 0), ((193,), 1.0), ((195,), 0), ((197,), 0), ((198,), 0.0), ((199,), 0), ((200,), 0.7559289460184552), ((201,), 0), ((202,), 0.5222329678670935), ((203,), 0), ((204,), 0), ((206,), 0), ((210,), 0), ((211,), 0), ((212,), 0), ((213,), 0), ((214,), 0), ((215,), 0), ((216,), -1.0), ((217,), 0.30151134457776363), ((219,), 0.45124262819713973), ((220,), 0), ((221,), 1.0), ((222,), 1.0), ((223,), -1.0), ((224,), 0), ((226,), 0.9438798074485389), ((227,), 0), ((229,), 0), ((230,), 0), ((231,), 0), ((232,), 0.6546536707079778), ((233,), 1.0), ((234,), 0), ((235,), 0), ((239,), 1.0), ((240,), -0.8660254037844386), ((241,), 0), ((242,), 0), ((246,), 0), ((247,), -1.0), ((249,), 0), ((251,), 0), ((252,), 0), ((254,), 1.0), ((259,), 0), ((260,), 1.0), ((261,), 0), ((262,), 0), ((263,), -1.0), ((264,), 0), ((266,), 0.5), ((268,), 0), ((269,), 0), ((270,), 0), ((273,), -1.0), ((274,), 0.716114874039432), ((275,), -0.4999999999999982), ((276,), 0), ((277,), 0), ((279,), 1.0), ((280,), 0), ((282,), -1.000000000000007), ((283,), 0), ((284,), 0), ((285,), 0), ((286,), 0), ((287,), 0), ((288,), 0.6005325641789633), ((290,), 1.0), ((291,), 0), ((292,), -1.0000000000000018), ((293,), 0), ((294,), 0.5000000000000009), ((295,), 0), ((296,), 0), ((298,), 0.9592712306918567), ((299,), 0), ((301,), 0), ((302,), 0), ((304,), 0.8660254037844356), ((305,), 1.0), ((307,), 0.9655810287305759), ((308,), 0), ((309,), 0), ((313,), -0.4999999999999929), ((314,), -1.0), ((317,), 0), ((318,), 0.44486512077567225), ((321,), 0), ((322,), 0.5057805388588731), ((323,), 0.0), ((325,), 0), ((326,), 0), ((328,), -0.5000000000000002), ((330,), 0.9035942578600878), ((331,), 0), ((332,), 0), ((334,), 1.0), ((335,), 0), ((336,), 1.0), ((337,), 0), ((338,), 0), ((339,), -1.0), ((340,), 0), ((341,), 0), ((343,), 0), ((346,), 0), ((347,), 1.0), ((348,), 0), ((349,), 0), ((350,), 0), ((351,), 0), ((352,), 0), ((353,), 0.8660254037844356), ((354,), 0), ((356,), 0), ((357,), 0.5606119105813882), ((359,), 0.8660254037844448), ((362,), 0), ((363,), 0), ((364,), 0), ((365,), 0), ((367,), 0), ((368,), 0), ((370,), 0), ((371,), 0), ((372,), 0.142857142857144), ((373,), 0.866025403784439), ((374,), 0), ((377,), 0), ((378,), 0), ((379,), 0), ((380,), 0), ((381,), 0.6546536707079778), ((382,), 1.0), ((384,), 0), ((385,), 0), ((386,), 0), ((387,), -0.18898223650461649), ((389,), 0), ((391,), 0.8660254037844387), ((395,), 0), ((396,), 0), ((399,), 1.0), ((400,), 0), ((401,), 0), ((402,), 0), ((403,), 0), ((404,), 0), ((405,), 0), ((409,), 0), ((410,), 0), ((411,), 0.8660254037844356), ((412,), 0), ((413,), 0), ((414,), 0.9376144618769914), ((415,), 0), ((416,), 0), ((417,), 0), ((418,), 0), ((419,), 0), ((420,), 0), ((422,), -1.0), ((423,), 0), ((424,), 0), ((425,), 0.8660254037844387), ((426,), -1.0), ((427,), 0), ((428,), 0), ((432,), -0.8660254037844386), ((433,), 0), ((434,), 0.9864036607532465), ((436,), 0), ((437,), 0), ((438,), 0), ((440,), 0), ((441,), 0), ((443,), 0), ((444,), 0), ((445,), 0), ((446,), 1.0), ((447,), 0), ((448,), 0.30151134457776363), ((451,), 0), ((452,), 0), ((453,), 0), ((454,), 0), ((456,), 0), ((458,), 0), ((460,), -1.0), ((462,), 0.8029550685469661), ((463,), 0), ((464,), 0), ((468,), -1.0), ((469,), 0.8164965809277261), ((470,), 0.0), ((471,), -1.0), ((474,), 0.11720180773462392), ((475,), 0), ((476,), -0.8660254037844402), ((477,), 0.4385290096535153), ((479,), 0), ((480,), 0.7844645405527362), ((482,), -1.0), ((483,), 0.08006407690254357), ((484,), 0.7205766921228925), ((486,), 0), ((488,), 0), ((489,), 1.0), ((490,), 1.0), ((492,), 0), ((497,), 0), ((498,), 0), ((500,), 0), ((501,), 0), ((503,), 0), ((504,), 0), ((509,), -1.0), ((512,), 1.0), ((513,), 0), ((514,), 0), ((517,), 1.0), ((519,), 0), ((522,), 1.0), ((523,), 0), ((524,), 0), ((525,), 1.0), ((526,), 0), ((527,), 1.0), ((528,), 1.0), ((529,), 0), ((533,), 0), ((534,), -1.0), ((540,), 0), ((541,), 0), ((542,), 0), ((544,), 0), ((550,), 0), ((551,), 0), ((552,), 0), ((553,), 0), ((555,), 0.5000000000000009), ((558,), 0), ((559,), -0.5), ((560,), 0.9819805060619666), ((561,), 0.5222329678670935), ((562,), 0.9999999999999858), ((563,), 1.0), ((564,), 0), ((565,), 0), ((566,), 0), ((567,), -1.0), ((568,), 0), ((569,), 0), ((570,), 0.8660254037844448), ((572,), 0), ((573,), 0.8660254037844264), ((574,), 0), ((575,), 0), ((577,), 0), ((579,), 0), ((580,), 1.0), ((583,), 0), ((584,), -1.0), ((585,), 0), ((586,), 0), ((587,), 0), ((588,), 0), ((589,), 0), ((590,), 0.9607689228305233), ((592,), 0), ((593,), 0), ((594,), 0), ((596,), -1.0), ((597,), 1.0), ((599,), 0.7666866491579839), ((600,), 0.18442777839082938), ((601,), 0), ((602,), 1.0), ((603,), 0.052414241836095235), ((604,), 0.0), ((605,), -0.7205766921228919), ((606,), 0.9146591207600472), ((607,), 0.0), ((608,), 0.920736884379251), ((609,), 1.0), ((610,), -0.47140452079103173)])"
     },
     "execution_count": 58,
     "metadata": {},
     "output_type": "execute_result"
    }
   ],
   "source": [
    "pearsonCorrelationDict = {}\n",
    "\n",
    "#For every user group in our subset\n",
    "for name, group in userSubsetGroup:\n",
    "    #Let's start by sorting the input and current user group so the values aren't mixed up later on\n",
    "    group = group.sort_values(by='movieId')\n",
    "    inputMovies = inputMovies.sort_values(by='movieId')\n",
    "    #Get the N for the formula\n",
    "    nRatings = len(group)\n",
    "    #Get the review scores for the movies that they both have in common\n",
    "    temp_df = inputMovies[inputMovies['movieId'].isin(group['movieId'].tolist())]\n",
    "    #And then store them in a temporary buffer variable in a list format to facilitate future calculations\n",
    "    tempRatingList = temp_df['rating'].tolist()\n",
    "    #Let's also put the current user group reviews in a list format\n",
    "    tempGroupList = group['rating'].tolist()\n",
    "    #Now let's calculate the pearson correlation between two users, so called, x and y\n",
    "    Sxx = sum([i ** 2 for i in tempRatingList]) - pow(sum(tempRatingList), 2) / float(nRatings)\n",
    "    Syy = sum([i ** 2 for i in tempGroupList]) - pow(sum(tempGroupList), 2) / float(nRatings)\n",
    "    Sxy = sum(i * j for i, j in zip(tempRatingList, tempGroupList)) - sum(tempRatingList) * sum(tempGroupList) / float(\n",
    "        nRatings)\n",
    "\n",
    "    #If the denominator is different than zero, then divide, else, 0 correlation.\n",
    "    if Sxx != 0 and Syy != 0:\n",
    "        pearsonCorrelationDict[name] = Sxy / sqrt(Sxx * Syy)\n",
    "    else:\n",
    "        pearsonCorrelationDict[name] = 0\n",
    "\n",
    "pearsonCorrelationDict.items()"
   ],
   "metadata": {
    "collapsed": false,
    "ExecuteTime": {
     "end_time": "2024-08-16T18:46:47.473806100Z",
     "start_time": "2024-08-16T18:46:47.218075600Z"
    }
   }
  },
  {
   "cell_type": "markdown",
   "source": [
    "and we make this dict into data frame"
   ],
   "metadata": {
    "collapsed": false
   }
  },
  {
   "cell_type": "code",
   "execution_count": 63,
   "outputs": [
    {
     "data": {
      "text/plain": "     similarityIndex  userId\n0          -1.000000       1\n1           0.000000       4\n2           1.000000       5\n3          -1.000000       6\n4           0.000000       7\n..               ...     ...\n414         0.914659     606\n415         0.000000     607\n416         0.920737     608\n417         1.000000     609\n418        -0.471405     610\n\n[419 rows x 2 columns]",
      "text/html": "<div>\n<style scoped>\n    .dataframe tbody tr th:only-of-type {\n        vertical-align: middle;\n    }\n\n    .dataframe tbody tr th {\n        vertical-align: top;\n    }\n\n    .dataframe thead th {\n        text-align: right;\n    }\n</style>\n<table border=\"1\" class=\"dataframe\">\n  <thead>\n    <tr style=\"text-align: right;\">\n      <th></th>\n      <th>similarityIndex</th>\n      <th>userId</th>\n    </tr>\n  </thead>\n  <tbody>\n    <tr>\n      <th>0</th>\n      <td>-1.000000</td>\n      <td>1</td>\n    </tr>\n    <tr>\n      <th>1</th>\n      <td>0.000000</td>\n      <td>4</td>\n    </tr>\n    <tr>\n      <th>2</th>\n      <td>1.000000</td>\n      <td>5</td>\n    </tr>\n    <tr>\n      <th>3</th>\n      <td>-1.000000</td>\n      <td>6</td>\n    </tr>\n    <tr>\n      <th>4</th>\n      <td>0.000000</td>\n      <td>7</td>\n    </tr>\n    <tr>\n      <th>...</th>\n      <td>...</td>\n      <td>...</td>\n    </tr>\n    <tr>\n      <th>414</th>\n      <td>0.914659</td>\n      <td>606</td>\n    </tr>\n    <tr>\n      <th>415</th>\n      <td>0.000000</td>\n      <td>607</td>\n    </tr>\n    <tr>\n      <th>416</th>\n      <td>0.920737</td>\n      <td>608</td>\n    </tr>\n    <tr>\n      <th>417</th>\n      <td>1.000000</td>\n      <td>609</td>\n    </tr>\n    <tr>\n      <th>418</th>\n      <td>-0.471405</td>\n      <td>610</td>\n    </tr>\n  </tbody>\n</table>\n<p>419 rows × 2 columns</p>\n</div>"
     },
     "execution_count": 63,
     "metadata": {},
     "output_type": "execute_result"
    }
   ],
   "source": [
    "pearsonDF = pd.DataFrame.from_dict(pearsonCorrelationDict, orient='index')\n",
    "pearsonDF.columns = ['similarityIndex']\n",
    "pearsonDF['userId'] = pearsonDF.index\n",
    "pearsonDF['userId'] = pearsonDF['userId'].apply(lambda x: x[0])\n",
    "pearsonDF.index = range(len(pearsonDF))\n",
    "pearsonDF"
   ],
   "metadata": {
    "collapsed": false,
    "ExecuteTime": {
     "end_time": "2024-08-16T18:49:18.068602Z",
     "start_time": "2024-08-16T18:49:18.054796500Z"
    }
   }
  },
  {
   "cell_type": "markdown",
   "source": [
    "we get the top 10 most similar users"
   ],
   "metadata": {
    "collapsed": false
   }
  },
  {
   "cell_type": "code",
   "execution_count": 64,
   "outputs": [
    {
     "data": {
      "text/plain": "     similarityIndex  userId\n91               1.0     132\n417              1.0     609\n23               1.0      33\n393              1.0     580\n379              1.0     563\n358              1.0     525\n361              1.0     528\n22               1.0      32\n8                1.0      15\n2                1.0       5",
      "text/html": "<div>\n<style scoped>\n    .dataframe tbody tr th:only-of-type {\n        vertical-align: middle;\n    }\n\n    .dataframe tbody tr th {\n        vertical-align: top;\n    }\n\n    .dataframe thead th {\n        text-align: right;\n    }\n</style>\n<table border=\"1\" class=\"dataframe\">\n  <thead>\n    <tr style=\"text-align: right;\">\n      <th></th>\n      <th>similarityIndex</th>\n      <th>userId</th>\n    </tr>\n  </thead>\n  <tbody>\n    <tr>\n      <th>91</th>\n      <td>1.0</td>\n      <td>132</td>\n    </tr>\n    <tr>\n      <th>417</th>\n      <td>1.0</td>\n      <td>609</td>\n    </tr>\n    <tr>\n      <th>23</th>\n      <td>1.0</td>\n      <td>33</td>\n    </tr>\n    <tr>\n      <th>393</th>\n      <td>1.0</td>\n      <td>580</td>\n    </tr>\n    <tr>\n      <th>379</th>\n      <td>1.0</td>\n      <td>563</td>\n    </tr>\n    <tr>\n      <th>358</th>\n      <td>1.0</td>\n      <td>525</td>\n    </tr>\n    <tr>\n      <th>361</th>\n      <td>1.0</td>\n      <td>528</td>\n    </tr>\n    <tr>\n      <th>22</th>\n      <td>1.0</td>\n      <td>32</td>\n    </tr>\n    <tr>\n      <th>8</th>\n      <td>1.0</td>\n      <td>15</td>\n    </tr>\n    <tr>\n      <th>2</th>\n      <td>1.0</td>\n      <td>5</td>\n    </tr>\n  </tbody>\n</table>\n</div>"
     },
     "execution_count": 64,
     "metadata": {},
     "output_type": "execute_result"
    }
   ],
   "source": [
    "topUsers = pearsonDF.sort_values(by='similarityIndex', ascending=False)\n",
    "topUsers.head(10)"
   ],
   "metadata": {
    "collapsed": false,
    "ExecuteTime": {
     "end_time": "2024-08-16T18:50:23.284586600Z",
     "start_time": "2024-08-16T18:50:23.284586600Z"
    }
   }
  },
  {
   "cell_type": "markdown",
   "source": [
    "we add rating column to dataframe"
   ],
   "metadata": {
    "collapsed": false
   }
  },
  {
   "cell_type": "code",
   "execution_count": 87,
   "outputs": [
    {
     "data": {
      "text/plain": "       similarityIndex  userId  movieId  rating\n0                  1.0     132        1     2.0\n1                  1.0     132       17     3.0\n2                  1.0     132       29     2.0\n3                  1.0     132       32     3.0\n4                  1.0     132       34     1.5\n...                ...     ...      ...     ...\n90678             -1.0     282    91529     4.0\n90679             -1.0     282   103335     3.5\n90680             -1.0     282   106782     4.5\n90681             -1.0     282   134130     4.0\n90682             -1.0     282   139385     4.5\n\n[59081 rows x 4 columns]",
      "text/html": "<div>\n<style scoped>\n    .dataframe tbody tr th:only-of-type {\n        vertical-align: middle;\n    }\n\n    .dataframe tbody tr th {\n        vertical-align: top;\n    }\n\n    .dataframe thead th {\n        text-align: right;\n    }\n</style>\n<table border=\"1\" class=\"dataframe\">\n  <thead>\n    <tr style=\"text-align: right;\">\n      <th></th>\n      <th>similarityIndex</th>\n      <th>userId</th>\n      <th>movieId</th>\n      <th>rating</th>\n    </tr>\n  </thead>\n  <tbody>\n    <tr>\n      <th>0</th>\n      <td>1.0</td>\n      <td>132</td>\n      <td>1</td>\n      <td>2.0</td>\n    </tr>\n    <tr>\n      <th>1</th>\n      <td>1.0</td>\n      <td>132</td>\n      <td>17</td>\n      <td>3.0</td>\n    </tr>\n    <tr>\n      <th>2</th>\n      <td>1.0</td>\n      <td>132</td>\n      <td>29</td>\n      <td>2.0</td>\n    </tr>\n    <tr>\n      <th>3</th>\n      <td>1.0</td>\n      <td>132</td>\n      <td>32</td>\n      <td>3.0</td>\n    </tr>\n    <tr>\n      <th>4</th>\n      <td>1.0</td>\n      <td>132</td>\n      <td>34</td>\n      <td>1.5</td>\n    </tr>\n    <tr>\n      <th>...</th>\n      <td>...</td>\n      <td>...</td>\n      <td>...</td>\n      <td>...</td>\n    </tr>\n    <tr>\n      <th>90678</th>\n      <td>-1.0</td>\n      <td>282</td>\n      <td>91529</td>\n      <td>4.0</td>\n    </tr>\n    <tr>\n      <th>90679</th>\n      <td>-1.0</td>\n      <td>282</td>\n      <td>103335</td>\n      <td>3.5</td>\n    </tr>\n    <tr>\n      <th>90680</th>\n      <td>-1.0</td>\n      <td>282</td>\n      <td>106782</td>\n      <td>4.5</td>\n    </tr>\n    <tr>\n      <th>90681</th>\n      <td>-1.0</td>\n      <td>282</td>\n      <td>134130</td>\n      <td>4.0</td>\n    </tr>\n    <tr>\n      <th>90682</th>\n      <td>-1.0</td>\n      <td>282</td>\n      <td>139385</td>\n      <td>4.5</td>\n    </tr>\n  </tbody>\n</table>\n<p>59081 rows × 4 columns</p>\n</div>"
     },
     "execution_count": 87,
     "metadata": {},
     "output_type": "execute_result"
    }
   ],
   "source": [
    "topUsersRating = topUsers.merge(ratings_df, left_on='userId', right_on='userId', how='inner')\n",
    "topUsersRating = topUsersRating[topUsersRating['similarityIndex'] != 0]\n",
    "topUsersRating"
   ],
   "metadata": {
    "collapsed": false,
    "ExecuteTime": {
     "end_time": "2024-08-16T19:28:03.067706600Z",
     "start_time": "2024-08-16T19:28:02.991380600Z"
    }
   }
  },
  {
   "cell_type": "markdown",
   "source": [
    "and we add the weightedRating column"
   ],
   "metadata": {
    "collapsed": false
   }
  },
  {
   "cell_type": "code",
   "execution_count": 88,
   "outputs": [
    {
     "data": {
      "text/plain": "       similarityIndex  userId  movieId  rating  weightedRating\n0                  1.0     132        1     2.0             2.0\n1                  1.0     132       17     3.0             3.0\n2                  1.0     132       29     2.0             2.0\n3                  1.0     132       32     3.0             3.0\n4                  1.0     132       34     1.5             1.5\n...                ...     ...      ...     ...             ...\n90678             -1.0     282    91529     4.0            -4.0\n90679             -1.0     282   103335     3.5            -3.5\n90680             -1.0     282   106782     4.5            -4.5\n90681             -1.0     282   134130     4.0            -4.0\n90682             -1.0     282   139385     4.5            -4.5\n\n[59081 rows x 5 columns]",
      "text/html": "<div>\n<style scoped>\n    .dataframe tbody tr th:only-of-type {\n        vertical-align: middle;\n    }\n\n    .dataframe tbody tr th {\n        vertical-align: top;\n    }\n\n    .dataframe thead th {\n        text-align: right;\n    }\n</style>\n<table border=\"1\" class=\"dataframe\">\n  <thead>\n    <tr style=\"text-align: right;\">\n      <th></th>\n      <th>similarityIndex</th>\n      <th>userId</th>\n      <th>movieId</th>\n      <th>rating</th>\n      <th>weightedRating</th>\n    </tr>\n  </thead>\n  <tbody>\n    <tr>\n      <th>0</th>\n      <td>1.0</td>\n      <td>132</td>\n      <td>1</td>\n      <td>2.0</td>\n      <td>2.0</td>\n    </tr>\n    <tr>\n      <th>1</th>\n      <td>1.0</td>\n      <td>132</td>\n      <td>17</td>\n      <td>3.0</td>\n      <td>3.0</td>\n    </tr>\n    <tr>\n      <th>2</th>\n      <td>1.0</td>\n      <td>132</td>\n      <td>29</td>\n      <td>2.0</td>\n      <td>2.0</td>\n    </tr>\n    <tr>\n      <th>3</th>\n      <td>1.0</td>\n      <td>132</td>\n      <td>32</td>\n      <td>3.0</td>\n      <td>3.0</td>\n    </tr>\n    <tr>\n      <th>4</th>\n      <td>1.0</td>\n      <td>132</td>\n      <td>34</td>\n      <td>1.5</td>\n      <td>1.5</td>\n    </tr>\n    <tr>\n      <th>...</th>\n      <td>...</td>\n      <td>...</td>\n      <td>...</td>\n      <td>...</td>\n      <td>...</td>\n    </tr>\n    <tr>\n      <th>90678</th>\n      <td>-1.0</td>\n      <td>282</td>\n      <td>91529</td>\n      <td>4.0</td>\n      <td>-4.0</td>\n    </tr>\n    <tr>\n      <th>90679</th>\n      <td>-1.0</td>\n      <td>282</td>\n      <td>103335</td>\n      <td>3.5</td>\n      <td>-3.5</td>\n    </tr>\n    <tr>\n      <th>90680</th>\n      <td>-1.0</td>\n      <td>282</td>\n      <td>106782</td>\n      <td>4.5</td>\n      <td>-4.5</td>\n    </tr>\n    <tr>\n      <th>90681</th>\n      <td>-1.0</td>\n      <td>282</td>\n      <td>134130</td>\n      <td>4.0</td>\n      <td>-4.0</td>\n    </tr>\n    <tr>\n      <th>90682</th>\n      <td>-1.0</td>\n      <td>282</td>\n      <td>139385</td>\n      <td>4.5</td>\n      <td>-4.5</td>\n    </tr>\n  </tbody>\n</table>\n<p>59081 rows × 5 columns</p>\n</div>"
     },
     "execution_count": 88,
     "metadata": {},
     "output_type": "execute_result"
    }
   ],
   "source": [
    "topUsersRating['weightedRating'] = topUsersRating['similarityIndex'] * topUsersRating['rating']\n",
    "topUsersRating"
   ],
   "metadata": {
    "collapsed": false,
    "ExecuteTime": {
     "end_time": "2024-08-16T19:28:08.997149200Z",
     "start_time": "2024-08-16T19:28:08.980355400Z"
    }
   }
  },
  {
   "cell_type": "markdown",
   "source": [
    "group by movie id and use sum aggregation."
   ],
   "metadata": {
    "collapsed": false
   }
  },
  {
   "cell_type": "code",
   "execution_count": 97,
   "outputs": [
    {
     "data": {
      "text/plain": "         sum_similarityIndex  sum_weightedRating\nmovieId                                         \n1                  35.525241          107.920189\n2                  35.944521           98.545876\n3                   8.897914           22.254573\n4                   0.050453           -0.991308\n5                   6.848541           14.516821\n...                      ...                 ...\n188675              0.444865            1.557028\n188833              0.444865            2.001893\n189381              0.444865            1.112163\n189713              0.802955            2.007388\n190183              0.157135            0.549972\n\n[8658 rows x 2 columns]",
      "text/html": "<div>\n<style scoped>\n    .dataframe tbody tr th:only-of-type {\n        vertical-align: middle;\n    }\n\n    .dataframe tbody tr th {\n        vertical-align: top;\n    }\n\n    .dataframe thead th {\n        text-align: right;\n    }\n</style>\n<table border=\"1\" class=\"dataframe\">\n  <thead>\n    <tr style=\"text-align: right;\">\n      <th></th>\n      <th>sum_similarityIndex</th>\n      <th>sum_weightedRating</th>\n    </tr>\n    <tr>\n      <th>movieId</th>\n      <th></th>\n      <th></th>\n    </tr>\n  </thead>\n  <tbody>\n    <tr>\n      <th>1</th>\n      <td>35.525241</td>\n      <td>107.920189</td>\n    </tr>\n    <tr>\n      <th>2</th>\n      <td>35.944521</td>\n      <td>98.545876</td>\n    </tr>\n    <tr>\n      <th>3</th>\n      <td>8.897914</td>\n      <td>22.254573</td>\n    </tr>\n    <tr>\n      <th>4</th>\n      <td>0.050453</td>\n      <td>-0.991308</td>\n    </tr>\n    <tr>\n      <th>5</th>\n      <td>6.848541</td>\n      <td>14.516821</td>\n    </tr>\n    <tr>\n      <th>...</th>\n      <td>...</td>\n      <td>...</td>\n    </tr>\n    <tr>\n      <th>188675</th>\n      <td>0.444865</td>\n      <td>1.557028</td>\n    </tr>\n    <tr>\n      <th>188833</th>\n      <td>0.444865</td>\n      <td>2.001893</td>\n    </tr>\n    <tr>\n      <th>189381</th>\n      <td>0.444865</td>\n      <td>1.112163</td>\n    </tr>\n    <tr>\n      <th>189713</th>\n      <td>0.802955</td>\n      <td>2.007388</td>\n    </tr>\n    <tr>\n      <th>190183</th>\n      <td>0.157135</td>\n      <td>0.549972</td>\n    </tr>\n  </tbody>\n</table>\n<p>8658 rows × 2 columns</p>\n</div>"
     },
     "execution_count": 97,
     "metadata": {},
     "output_type": "execute_result"
    }
   ],
   "source": [
    "tempTopUsersRating: pd.DataFrame = topUsersRating.groupby('movieId').sum()[['similarityIndex', 'weightedRating']]\n",
    "tempTopUsersRating.columns = ['sum_similarityIndex', 'sum_weightedRating']\n",
    "tempTopUsersRating = tempTopUsersRating[tempTopUsersRating['sum_similarityIndex'] != 0]\n",
    "tempTopUsersRating"
   ],
   "metadata": {
    "collapsed": false,
    "ExecuteTime": {
     "end_time": "2024-08-16T19:30:31.343389Z",
     "start_time": "2024-08-16T19:30:31.329150100Z"
    }
   }
  },
  {
   "cell_type": "markdown",
   "source": [
    "so we made recommendation dataframe"
   ],
   "metadata": {
    "collapsed": false
   }
  },
  {
   "cell_type": "code",
   "execution_count": 98,
   "outputs": [
    {
     "data": {
      "text/plain": "       weighted average recommendation score        movieId\ncount                           8.658000e+03    8658.000000\nmean                            2.871472e+11   37820.076230\nstd                             5.214455e+13   48791.659125\nmin                            -1.407375e+15       1.000000\n25%                             2.500000e+00    3018.250000\n50%                             3.288190e+00    6856.500000\n75%                             3.976351e+00   68340.000000\nmax                             4.550270e+15  190183.000000",
      "text/html": "<div>\n<style scoped>\n    .dataframe tbody tr th:only-of-type {\n        vertical-align: middle;\n    }\n\n    .dataframe tbody tr th {\n        vertical-align: top;\n    }\n\n    .dataframe thead th {\n        text-align: right;\n    }\n</style>\n<table border=\"1\" class=\"dataframe\">\n  <thead>\n    <tr style=\"text-align: right;\">\n      <th></th>\n      <th>weighted average recommendation score</th>\n      <th>movieId</th>\n    </tr>\n  </thead>\n  <tbody>\n    <tr>\n      <th>count</th>\n      <td>8.658000e+03</td>\n      <td>8658.000000</td>\n    </tr>\n    <tr>\n      <th>mean</th>\n      <td>2.871472e+11</td>\n      <td>37820.076230</td>\n    </tr>\n    <tr>\n      <th>std</th>\n      <td>5.214455e+13</td>\n      <td>48791.659125</td>\n    </tr>\n    <tr>\n      <th>min</th>\n      <td>-1.407375e+15</td>\n      <td>1.000000</td>\n    </tr>\n    <tr>\n      <th>25%</th>\n      <td>2.500000e+00</td>\n      <td>3018.250000</td>\n    </tr>\n    <tr>\n      <th>50%</th>\n      <td>3.288190e+00</td>\n      <td>6856.500000</td>\n    </tr>\n    <tr>\n      <th>75%</th>\n      <td>3.976351e+00</td>\n      <td>68340.000000</td>\n    </tr>\n    <tr>\n      <th>max</th>\n      <td>4.550270e+15</td>\n      <td>190183.000000</td>\n    </tr>\n  </tbody>\n</table>\n</div>"
     },
     "execution_count": 98,
     "metadata": {},
     "output_type": "execute_result"
    }
   ],
   "source": [
    "recommendation_df = pd.DataFrame()\n",
    "recommendation_df['weighted average recommendation score'] = tempTopUsersRating['sum_weightedRating'] / \\\n",
    "                                                             tempTopUsersRating['sum_similarityIndex']\n",
    "recommendation_df['movieId'] = tempTopUsersRating.index\n",
    "recommendation_df.describe()"
   ],
   "metadata": {
    "collapsed": false,
    "ExecuteTime": {
     "end_time": "2024-08-16T19:30:36.780009400Z",
     "start_time": "2024-08-16T19:30:36.757275600Z"
    }
   }
  },
  {
   "cell_type": "markdown",
   "source": [
    "and sort it descending"
   ],
   "metadata": {
    "collapsed": false
   }
  },
  {
   "cell_type": "code",
   "execution_count": 99,
   "outputs": [
    {
     "data": {
      "text/plain": "         weighted average recommendation score  movieId\nmovieId                                                \n85885                             4.550270e+15    85885\n2900                              5.629500e+14     2900\n91630                             3.040984e+02    91630\n835                               9.803135e+01      835\n80166                             7.415801e+01    80166\n...                                        ...      ...\n3130                             -1.230715e+02     3130\n2492                             -2.814750e+14     2492\n1783                             -3.753000e+14     1783\n2255                             -5.629500e+14     2255\n63540                            -1.407375e+15    63540\n\n[8658 rows x 2 columns]",
      "text/html": "<div>\n<style scoped>\n    .dataframe tbody tr th:only-of-type {\n        vertical-align: middle;\n    }\n\n    .dataframe tbody tr th {\n        vertical-align: top;\n    }\n\n    .dataframe thead th {\n        text-align: right;\n    }\n</style>\n<table border=\"1\" class=\"dataframe\">\n  <thead>\n    <tr style=\"text-align: right;\">\n      <th></th>\n      <th>weighted average recommendation score</th>\n      <th>movieId</th>\n    </tr>\n    <tr>\n      <th>movieId</th>\n      <th></th>\n      <th></th>\n    </tr>\n  </thead>\n  <tbody>\n    <tr>\n      <th>85885</th>\n      <td>4.550270e+15</td>\n      <td>85885</td>\n    </tr>\n    <tr>\n      <th>2900</th>\n      <td>5.629500e+14</td>\n      <td>2900</td>\n    </tr>\n    <tr>\n      <th>91630</th>\n      <td>3.040984e+02</td>\n      <td>91630</td>\n    </tr>\n    <tr>\n      <th>835</th>\n      <td>9.803135e+01</td>\n      <td>835</td>\n    </tr>\n    <tr>\n      <th>80166</th>\n      <td>7.415801e+01</td>\n      <td>80166</td>\n    </tr>\n    <tr>\n      <th>...</th>\n      <td>...</td>\n      <td>...</td>\n    </tr>\n    <tr>\n      <th>3130</th>\n      <td>-1.230715e+02</td>\n      <td>3130</td>\n    </tr>\n    <tr>\n      <th>2492</th>\n      <td>-2.814750e+14</td>\n      <td>2492</td>\n    </tr>\n    <tr>\n      <th>1783</th>\n      <td>-3.753000e+14</td>\n      <td>1783</td>\n    </tr>\n    <tr>\n      <th>2255</th>\n      <td>-5.629500e+14</td>\n      <td>2255</td>\n    </tr>\n    <tr>\n      <th>63540</th>\n      <td>-1.407375e+15</td>\n      <td>63540</td>\n    </tr>\n  </tbody>\n</table>\n<p>8658 rows × 2 columns</p>\n</div>"
     },
     "execution_count": 99,
     "metadata": {},
     "output_type": "execute_result"
    }
   ],
   "source": [
    "recommendation_df = recommendation_df.sort_values(by='weighted average recommendation score', ascending=False)\n",
    "recommendation_df"
   ],
   "metadata": {
    "collapsed": false,
    "ExecuteTime": {
     "end_time": "2024-08-16T19:30:45.707046400Z",
     "start_time": "2024-08-16T19:30:45.673438Z"
    }
   }
  },
  {
   "cell_type": "markdown",
   "source": [
    "and we extract the full information for each movie"
   ],
   "metadata": {
    "collapsed": false
   }
  },
  {
   "cell_type": "code",
   "execution_count": 100,
   "outputs": [
    {
     "data": {
      "text/plain": "      movieId                                              title  year\n647       835                                            Foxfire  1996\n662       867                                            Carpool  1996\n669       881                                          First Kid  1996\n673       888  Land Before Time III: The Time of the Great Gi...  1995\n1332     1804                                   Newton Boys, The  1998\n2183     2900                                      Monkey Shines  1988\n7408    80166                                        Switch, The  2010\n7572    85885                  Room in Rome (Habitación en Roma)  2010\n7774    91630               Mission: Impossible - Ghost Protocol  2011\n9170   148881                                  World of Tomorrow  2015",
      "text/html": "<div>\n<style scoped>\n    .dataframe tbody tr th:only-of-type {\n        vertical-align: middle;\n    }\n\n    .dataframe tbody tr th {\n        vertical-align: top;\n    }\n\n    .dataframe thead th {\n        text-align: right;\n    }\n</style>\n<table border=\"1\" class=\"dataframe\">\n  <thead>\n    <tr style=\"text-align: right;\">\n      <th></th>\n      <th>movieId</th>\n      <th>title</th>\n      <th>year</th>\n    </tr>\n  </thead>\n  <tbody>\n    <tr>\n      <th>647</th>\n      <td>835</td>\n      <td>Foxfire</td>\n      <td>1996</td>\n    </tr>\n    <tr>\n      <th>662</th>\n      <td>867</td>\n      <td>Carpool</td>\n      <td>1996</td>\n    </tr>\n    <tr>\n      <th>669</th>\n      <td>881</td>\n      <td>First Kid</td>\n      <td>1996</td>\n    </tr>\n    <tr>\n      <th>673</th>\n      <td>888</td>\n      <td>Land Before Time III: The Time of the Great Gi...</td>\n      <td>1995</td>\n    </tr>\n    <tr>\n      <th>1332</th>\n      <td>1804</td>\n      <td>Newton Boys, The</td>\n      <td>1998</td>\n    </tr>\n    <tr>\n      <th>2183</th>\n      <td>2900</td>\n      <td>Monkey Shines</td>\n      <td>1988</td>\n    </tr>\n    <tr>\n      <th>7408</th>\n      <td>80166</td>\n      <td>Switch, The</td>\n      <td>2010</td>\n    </tr>\n    <tr>\n      <th>7572</th>\n      <td>85885</td>\n      <td>Room in Rome (Habitación en Roma)</td>\n      <td>2010</td>\n    </tr>\n    <tr>\n      <th>7774</th>\n      <td>91630</td>\n      <td>Mission: Impossible - Ghost Protocol</td>\n      <td>2011</td>\n    </tr>\n    <tr>\n      <th>9170</th>\n      <td>148881</td>\n      <td>World of Tomorrow</td>\n      <td>2015</td>\n    </tr>\n  </tbody>\n</table>\n</div>"
     },
     "execution_count": 100,
     "metadata": {},
     "output_type": "execute_result"
    }
   ],
   "source": [
    "movies_df.loc[movies_df['movieId'].isin(recommendation_df.head(10)['movieId'].tolist())]"
   ],
   "metadata": {
    "collapsed": false,
    "ExecuteTime": {
     "end_time": "2024-08-16T19:30:57.804596600Z",
     "start_time": "2024-08-16T19:30:57.797892200Z"
    }
   }
  }
 ],
 "metadata": {
  "kernelspec": {
   "display_name": "Python 3",
   "language": "python",
   "name": "python3"
  },
  "language_info": {
   "codemirror_mode": {
    "name": "ipython",
    "version": 2
   },
   "file_extension": ".py",
   "mimetype": "text/x-python",
   "name": "python",
   "nbconvert_exporter": "python",
   "pygments_lexer": "ipython2",
   "version": "2.7.6"
  }
 },
 "nbformat": 4,
 "nbformat_minor": 0
}
